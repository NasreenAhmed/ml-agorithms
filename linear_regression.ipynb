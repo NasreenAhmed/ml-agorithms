{
  "nbformat": 4,
  "nbformat_minor": 0,
  "metadata": {
    "colab": {
      "name": "linear_regression.ipynb",
      "provenance": [],
      "collapsed_sections": []
    },
    "kernelspec": {
      "name": "python3",
      "display_name": "Python 3"
    },
    "language_info": {
      "name": "python"
    }
  },
  "cells": [
    {
      "cell_type": "code",
      "metadata": {
        "id": "upqWMBuzHmnn",
        "colab": {
          "base_uri": "https://localhost:8080/"
        },
        "outputId": "7d8f8931-2836-45a1-a294-089f2541bac3"
      },
      "source": [
        "# Load the boston housing data set from sklearn.datasets \n",
        "import pandas as pd\n",
        "from sklearn.datasets import load_boston\n",
        "boston = load_boston()\n",
        "\n",
        "df = pd.DataFrame(boston.data,columns= boston.feature_names)\n",
        "df_target = pd.DataFrame(boston.target)\n",
        "\n",
        "print(df.head())\n",
        "\n",
        "df_target = df_target.rename(columns={0: 'target'})\n",
        "print(df_target.head())\n",
        "print(boston.DESCR)"
      ],
      "execution_count": 78,
      "outputs": [
        {
          "output_type": "stream",
          "text": [
            "      CRIM    ZN  INDUS  CHAS    NOX  ...  RAD    TAX  PTRATIO       B  LSTAT\n",
            "0  0.00632  18.0   2.31   0.0  0.538  ...  1.0  296.0     15.3  396.90   4.98\n",
            "1  0.02731   0.0   7.07   0.0  0.469  ...  2.0  242.0     17.8  396.90   9.14\n",
            "2  0.02729   0.0   7.07   0.0  0.469  ...  2.0  242.0     17.8  392.83   4.03\n",
            "3  0.03237   0.0   2.18   0.0  0.458  ...  3.0  222.0     18.7  394.63   2.94\n",
            "4  0.06905   0.0   2.18   0.0  0.458  ...  3.0  222.0     18.7  396.90   5.33\n",
            "\n",
            "[5 rows x 13 columns]\n",
            "   target\n",
            "0    24.0\n",
            "1    21.6\n",
            "2    34.7\n",
            "3    33.4\n",
            "4    36.2\n",
            ".. _boston_dataset:\n",
            "\n",
            "Boston house prices dataset\n",
            "---------------------------\n",
            "\n",
            "**Data Set Characteristics:**  \n",
            "\n",
            "    :Number of Instances: 506 \n",
            "\n",
            "    :Number of Attributes: 13 numeric/categorical predictive. Median Value (attribute 14) is usually the target.\n",
            "\n",
            "    :Attribute Information (in order):\n",
            "        - CRIM     per capita crime rate by town\n",
            "        - ZN       proportion of residential land zoned for lots over 25,000 sq.ft.\n",
            "        - INDUS    proportion of non-retail business acres per town\n",
            "        - CHAS     Charles River dummy variable (= 1 if tract bounds river; 0 otherwise)\n",
            "        - NOX      nitric oxides concentration (parts per 10 million)\n",
            "        - RM       average number of rooms per dwelling\n",
            "        - AGE      proportion of owner-occupied units built prior to 1940\n",
            "        - DIS      weighted distances to five Boston employment centres\n",
            "        - RAD      index of accessibility to radial highways\n",
            "        - TAX      full-value property-tax rate per $10,000\n",
            "        - PTRATIO  pupil-teacher ratio by town\n",
            "        - B        1000(Bk - 0.63)^2 where Bk is the proportion of blacks by town\n",
            "        - LSTAT    % lower status of the population\n",
            "        - MEDV     Median value of owner-occupied homes in $1000's\n",
            "\n",
            "    :Missing Attribute Values: None\n",
            "\n",
            "    :Creator: Harrison, D. and Rubinfeld, D.L.\n",
            "\n",
            "This is a copy of UCI ML housing dataset.\n",
            "https://archive.ics.uci.edu/ml/machine-learning-databases/housing/\n",
            "\n",
            "\n",
            "This dataset was taken from the StatLib library which is maintained at Carnegie Mellon University.\n",
            "\n",
            "The Boston house-price data of Harrison, D. and Rubinfeld, D.L. 'Hedonic\n",
            "prices and the demand for clean air', J. Environ. Economics & Management,\n",
            "vol.5, 81-102, 1978.   Used in Belsley, Kuh & Welsch, 'Regression diagnostics\n",
            "...', Wiley, 1980.   N.B. Various transformations are used in the table on\n",
            "pages 244-261 of the latter.\n",
            "\n",
            "The Boston house-price data has been used in many machine learning papers that address regression\n",
            "problems.   \n",
            "     \n",
            ".. topic:: References\n",
            "\n",
            "   - Belsley, Kuh & Welsch, 'Regression diagnostics: Identifying Influential Data and Sources of Collinearity', Wiley, 1980. 244-261.\n",
            "   - Quinlan,R. (1993). Combining Instance-Based and Model-Based Learning. In Proceedings on the Tenth International Conference of Machine Learning, 236-243, University of Massachusetts, Amherst. Morgan Kaufmann.\n",
            "\n"
          ],
          "name": "stdout"
        }
      ]
    },
    {
      "cell_type": "code",
      "metadata": {
        "colab": {
          "base_uri": "https://localhost:8080/"
        },
        "id": "Qn6-zs8_jTtC",
        "outputId": "b09ffd7e-c4b2-4426-c175-515fe0412bbb"
      },
      "source": [
        "# aim to find the most correlated columns in our feature set, with the target column\n",
        "df = pd.concat([df,df_target],axis=1)\n",
        "#print(ex.head())\n",
        "df[df.columns[1:]].corr()['target'][:]"
      ],
      "execution_count": 79,
      "outputs": [
        {
          "output_type": "execute_result",
          "data": {
            "text/plain": [
              "ZN         0.360445\n",
              "INDUS     -0.483725\n",
              "CHAS       0.175260\n",
              "NOX       -0.427321\n",
              "RM         0.695360\n",
              "AGE       -0.376955\n",
              "DIS        0.249929\n",
              "RAD       -0.381626\n",
              "TAX       -0.468536\n",
              "PTRATIO   -0.507787\n",
              "B          0.333461\n",
              "LSTAT     -0.737663\n",
              "target     1.000000\n",
              "Name: target, dtype: float64"
            ]
          },
          "metadata": {
            "tags": []
          },
          "execution_count": 79
        }
      ]
    },
    {
      "cell_type": "code",
      "metadata": {
        "colab": {
          "base_uri": "https://localhost:8080/"
        },
        "id": "1lraDHXuljV3",
        "outputId": "ffcd95d2-b29c-4a5e-943e-506b8b71c063"
      },
      "source": [
        "# Based on results of the correlation check, we select RM and LSTAT as the most correlated columns to our target set\n",
        "# and use them to predict the house prices\n",
        "\n",
        "df = df[['RM','target']]\n",
        "df.insert(0,'ones',1)\n",
        "\n",
        "#print(len(df))\n",
        "# Divide it into train and test sets\n",
        "\n",
        "from sklearn.utils import shuffle\n",
        "df = shuffle(df)\n",
        "\n",
        "\n",
        "# for testing our model, we will begin with less number of data for train and test and then include more row.\n",
        "\n",
        "train_df = df[0:350]\n",
        "test_df = df[350:506]\n",
        "\n",
        "print(len(train_df))\n",
        "print(len(test_df))\n",
        "\n",
        "print(train_df.head())"
      ],
      "execution_count": 80,
      "outputs": [
        {
          "output_type": "stream",
          "text": [
            "350\n",
            "156\n",
            "     ones     RM  target\n",
            "324     1  6.415    25.0\n",
            "128     1  6.431    18.0\n",
            "422     1  5.648    20.8\n",
            "268     1  7.470    43.5\n",
            "413     1  5.155    16.3\n"
          ],
          "name": "stdout"
        }
      ]
    },
    {
      "cell_type": "code",
      "metadata": {
        "colab": {
          "base_uri": "https://localhost:8080/",
          "height": 265
        },
        "id": "_fg7IKS4ntOS",
        "outputId": "fb49f5a3-fc90-41c6-8325-d729b65d23dc"
      },
      "source": [
        "import matplotlib.pyplot as plt\n",
        "\n",
        "plt.Figure(figsize=(8, 8))\n",
        "plt.scatter(train_df['RM'], train_df['target']) # positively correlated with house prices\n",
        "plt.grid()\n",
        "plt.show()"
      ],
      "execution_count": 81,
      "outputs": [
        {
          "output_type": "display_data",
          "data": {
            "image/png": "[encoded data removed]",
            "text/plain": [
              "<Figure size 432x288 with 1 Axes>"
            ]
          },
          "metadata": {
            "tags": [],
            "needs_background": "light"
          }
        }
      ]
    },
    {
      "cell_type": "code",
      "metadata": {
        "id": "_OYbmU1g-8jk"
      },
      "source": [
        "# With the intercept and fixed learning rate\n",
        "def linear_regression(df,y,theta,alpha,iter,eps):\n",
        "\n",
        "\n",
        "  n = df.shape[0]\n",
        "  df = np.array(df)\n",
        "  y = y.reshape(len(y),1)\n",
        "\n",
        "  for i in range(0,iter):\n",
        "    \n",
        "    y_hat = np.dot(df,theta)  \n",
        "    err = y-y_hat\n",
        "    \n",
        "    loss = 1/n * np.sum((err)**2)\n",
        "    #print(\"iter:\",i,\"loss:\",loss)\n",
        "\n",
        "    if abs(loss) < eps:\n",
        "      return theta\n",
        "\n",
        "    else:\n",
        "  \n",
        "      g = -2/n * np.dot(df.T,err)\n",
        "      d = np.array(g/np.linalg.norm(g))\n",
        "      theta =  theta - alpha*g\n",
        "  return loss,theta\n",
        "    "
      ],
      "execution_count": 82,
      "outputs": []
    },
    {
      "cell_type": "code",
      "metadata": {
        "id": "mHHVpWTGWfLT"
      },
      "source": [
        "import numpy as np\n",
        "\n",
        "df = train_df[['ones','RM']]\n",
        "y = np.array(train_df['target'])\n",
        "alpha = 0.009\n",
        "c = df.shape[1]\n",
        "iter = 20000\n",
        "theta = np.random.rand(c,1) # Specifying random values for theta\n",
        "#theta = np.ones((1,c))\n",
        "loss,theta = linear_regression(df,y,theta,alpha,iter,eps=1e-4)"
      ],
      "execution_count": 83,
      "outputs": []
    },
    {
      "cell_type": "code",
      "metadata": {
        "id": "YzMkEdM-egFd"
      },
      "source": [
        "# Predict values \n",
        "\n",
        "X = test_df[['RM']]\n",
        "test_target = test_df[['target']]\n",
        "x = test_df[['ones',  'RM']]\n",
        "y_pred = np.dot(x,theta)\n"
      ],
      "execution_count": 86,
      "outputs": []
    },
    {
      "cell_type": "code",
      "metadata": {
        "colab": {
          "base_uri": "https://localhost:8080/",
          "height": 413
        },
        "id": "Y6gozpGofzPT",
        "outputId": "2e446a1b-79f2-4d22-8c94-3aa3ed5249b5"
      },
      "source": [
        "plt.figure(figsize=(8, 6), dpi=80)\n",
        "plt.scatter(X,test_target,color='green')\n",
        "plt.plot(X,y_pred,color='red')\n",
        "plt.grid()\n",
        "plt.show()"
      ],
      "execution_count": 87,
      "outputs": [
        {
          "output_type": "display_data",
          "data": {
            "image/png": "[encoded data removed]",
            "text/plain": [
              "<Figure size 640x480 with 1 Axes>"
            ]
          },
          "metadata": {
            "tags": [],
            "needs_background": "light"
          }
        }
      ]
    }
  ]
}