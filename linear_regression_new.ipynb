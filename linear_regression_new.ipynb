{
  "nbformat": 4,
  "nbformat_minor": 0,
  "metadata": {
    "colab": {
      "name": "linear_regression_new.ipynb",
      "provenance": [],
      "collapsed_sections": [
        "cLrXd2EUM6GG",
        "o_OqIEJL8Vft",
        "pIX9dIcWM_eA",
        "l2bhU3iC5SVz",
        "gTkkDPtC6ync"
      ]
    },
    "kernelspec": {
      "name": "python3",
      "display_name": "Python 3"
    },
    "language_info": {
      "name": "python"
    }
  },
  "cells": [
    {
      "cell_type": "markdown",
      "source": [
        "# Table of Contents : \n",
        "\n",
        "\n",
        "  - [Simple Linear Regression](https://colab.research.google.com/drive/1d09i7L_7KSoye8bNds-Wpgof5_UEqWlR#scrollTo=o_OqIEJL8Vft&line=27&uniqifier=1)\n",
        "    -  [Coefficient Estimation](https://colab.research.google.com/drive/1d09i7L_7KSoye8bNds-Wpgof5_UEqWlR#scrollTo=zZcVVsIKQa2E&line=1&uniqifier=1) \n",
        "    - [Accuracy of Coefficient Estimates](https://colab.research.google.com/drive/1d09i7L_7KSoye8bNds-Wpgof5_UEqWlR#scrollTo=7b4Ug3PRzGLT&line=9&uniqifier=1)\n",
        "    - [Accessing Model Accuracy](https://colab.research.google.com/drive/1d09i7L_7KSoye8bNds-Wpgof5_UEqWlR#scrollTo=n51ofIlwEwuV&line=5&uniqifier=1)\n",
        "  - [Multiple Linear Regression](https://colab.research.google.com/drive/1d09i7L_7KSoye8bNds-Wpgof5_UEqWlR#scrollTo=l2bhU3iC5SVz&line=34&uniqifier=1)\n",
        "  - [Answering Questions to Advertising Data](https://colab.research.google.com/drive/1d09i7L_7KSoye8bNds-Wpgof5_UEqWlR#scrollTo=YIb6mtZh7Knz&line=24&uniqifier=1)\n",
        "\n",
        "\n",
        "Source: ISLR : Chapter - 3"
      ],
      "metadata": {
        "id": "mbp5-iO1Pl6D"
      }
    },
    {
      "cell_type": "markdown",
      "source": [
        "**Introduction**\n",
        "\n",
        "In particular, linear regression is a useful tool for predicting a quantitative response. \n",
        "\n",
        "To understand linear regression, we consider the below advertising dataset that contains sales data for a  particular product as a funtiion of advertising budgets of TV, radio and newspaper media.\n",
        "\n",
        "\n",
        "\n"
      ],
      "metadata": {
        "id": "jGONY0eH1pIw"
      }
    },
    {
      "cell_type": "code",
      "source": [
        "# Loading Dataset\n",
        "from google.colab import drive\n",
        "drive.mount('/content/drive')"
      ],
      "metadata": {
        "colab": {
          "base_uri": "https://localhost:8080/"
        },
        "id": "DiBkppe63NMh",
        "outputId": "f06600bb-6209-418c-e5b0-eb8b84472a39"
      },
      "execution_count": null,
      "outputs": [
        {
          "output_type": "stream",
          "name": "stdout",
          "text": [
            "Mounted at /content/drive\n"
          ]
        }
      ]
    },
    {
      "cell_type": "code",
      "source": [
        "import pandas as pd\n",
        "import numpy as np\n",
        "\n",
        "%cd /content/drive/My\\ Drive/colab_notebooks/machine_learning/data/\n",
        "df = pd.read_csv(\"Advertising.csv\")"
      ],
      "metadata": {
        "colab": {
          "base_uri": "https://localhost:8080/"
        },
        "id": "vle0McB33RWM",
        "outputId": "334c4ef4-a688-470f-e1bb-b5574884f234"
      },
      "execution_count": null,
      "outputs": [
        {
          "output_type": "stream",
          "name": "stdout",
          "text": [
            "/content/drive/My Drive/colab_notebooks/machine_learning/data\n"
          ]
        }
      ]
    },
    {
      "cell_type": "code",
      "source": [
        "df = df[['TV', 'radio', 'newspaper', 'sales']]"
      ],
      "metadata": {
        "id": "7c8R607B3ZdO"
      },
      "execution_count": null,
      "outputs": []
    },
    {
      "cell_type": "code",
      "execution_count": null,
      "metadata": {
        "colab": {
          "base_uri": "https://localhost:8080/"
        },
        "id": "vOSPgVSM1ivl",
        "outputId": "8c58a873-6862-40ca-d4eb-408adf121a03"
      },
      "outputs": [
        {
          "output_type": "stream",
          "name": "stdout",
          "text": [
            "      TV  radio  newspaper  sales\n",
            "0  230.1   37.8       69.2   22.1\n",
            "1   44.5   39.3       45.1   10.4\n",
            "2   17.2   45.9       69.3    9.3\n",
            "3  151.5   41.3       58.5   18.5\n",
            "4  180.8   10.8       58.4   12.9\n"
          ]
        }
      ],
      "source": [
        "print(df.iloc[0:5,:])"
      ]
    },
    {
      "cell_type": "code",
      "source": [
        "# Plotting sales as a function of TV,radion, newspaper.\n",
        "import matplotlib.pyplot as plt\n",
        "fig, (ax1, ax2, ax3) = plt.subplots(1, 3,figsize=(15,5))\n",
        "fig.suptitle('Sales Data relation with TV,radio & newspaper advertising resp')\n",
        "ax = [ax1, ax2, ax3]\n",
        "\n",
        "ax1.scatter(df.iloc[:,0],df.iloc[:,-1],label='TV~Sales',alpha=0.5,color='green')\n",
        "ax2.scatter(df.iloc[:,1],df.iloc[:,-1],label='radio~Sales',alpha=0.5,color='grey')\n",
        "ax3.scatter(df.iloc[:,2],df.iloc[:,-1],label='newspaper~Sales',alpha=0.5)\n",
        "\n",
        "for i in range(0,len(ax)):\n",
        "  ax[i].legend(loc=\"upper right\")\n",
        "  ax[i].grid()\n"
      ],
      "metadata": {
        "colab": {
          "base_uri": "https://localhost:8080/",
          "height": 356
        },
        "id": "8uN1NrrP30sb",
        "outputId": "d98f6b25-4383-48cb-d60e-9c849dadf692"
      },
      "execution_count": null,
      "outputs": [
        {
          "output_type": "display_data",
          "data": {
            "image/png": "[encoded data removed]",
            "text/plain": [
              "<Figure size 1080x360 with 3 Axes>"
            ]
          },
          "metadata": {
            "needs_background": "light"
          }
        }
      ]
    },
    {
      "cell_type": "markdown",
      "source": [
        "Here, are a few important questions that we might seek to address.\n",
        "<font color='darkblue'>\n",
        "1. Is there a relationship between advertising budget and sales?\n",
        "2. How strong is the relationship between advertising budget and sales?\n",
        "3. Which media are associated with sales?\n",
        "4. How large is the association between each medium and sales.\n",
        "5. How accurately can we predict future sales?\n",
        "6. Is the relationship linear.\n",
        "7. Is there synergy/\"interaction effect\" among the advertising media?\n",
        "</font>\n",
        "\n",
        "*Simple Linear regression* can be used to answer these questions."
      ],
      "metadata": {
        "id": "WnNZ6lCV3F5p"
      }
    },
    {
      "cell_type": "markdown",
      "source": [
        "# Simple Linear Regression\n"
      ],
      "metadata": {
        "id": "cLrXd2EUM6GG"
      }
    },
    {
      "cell_type": "markdown",
      "source": [
        "\n",
        "*Simple Linear regression* lives up to its name : it is very straightforward approach for predicting a quantitative response $Y$ on the bases of a single predictor variable $X$. It assumes that there is approximately a linear relationship between $X$ and $Y$. Mathematically, we can write this linear relationship as \n",
        "\n",
        "\\begin{align*}\n",
        "Y ≈ β_0 + β_1X \\tag{1}\n",
        "\\end{align*}\n",
        "\n",
        "For example, $X$ may represent <font color='blue'>TV</font> advertising and $Y$ may represent <font color='blue'>sales</font>.\n",
        "Then we can regress <font color='blue'>sales</font> onto <font color='blue'>TV</font> by fitting the model \n",
        "\n",
        "\\begin{align*}\n",
        "sales ≈ β_0 + β_1\\times TV \n",
        "\\end{align*}\n",
        "\n",
        "$β_0, β_1$ are two unknown constants that represent the **intercept** and the **slope** terms in the linear model. Together, $β_0, β_1$  are known as the **model coeffecients** or **parameters**. \n",
        "\n",
        "Once we have used our training data to product estimates $\\hat{β}_0$ and $\\hat{β}_1$ for the model coefficients, we can preduct future sales on the basis of a particular value of **TV** advertising bby computing:\n",
        "\n",
        "\n",
        "\\begin{align*}\n",
        "\\hat{y} ≈ \\hat{β}_0 + \\hat{β}_1 x \\tag{2}\n",
        "\\end{align*}\n",
        "\n",
        "where $\\hat{y}$ indicates a prediction of $Y$ on the basis on $X=x$. \n",
        "\n",
        "Here, we use a hat symbol, \"^\", to denote the estimated value of an unknown parameters or coefficient, or to denote the predicted value of the response.  "
      ],
      "metadata": {
        "id": "o_OqIEJL8Vft"
      }
    },
    {
      "cell_type": "markdown",
      "source": [
        "## 1 .Estimating the Coefficients\n",
        "\n",
        "To simplify our notation, we also introduce the convention of letting $x_0=1$( this is the intercept term), so that\n",
        "\n",
        "\\begin{align*}\n",
        "\\hat{y} = ∑_{i=0}^n  β_ix_i = β^Tx,\n",
        "\\end{align*}\n",
        "\n",
        "where on the right-hand side above we are viewing $β$ and $x$ both as vectors, and here $n$ is the number of input variables. \n",
        "\n",
        "Now, given a training set, how do we pick, or learn, the parameters $β$? \n",
        "\n",
        "One reasonable method seems to be to make $h(x)$ close to $y$, at least for the training examples we have. To formalize this, we will define a function that measures, for each value of $β's$, how clouse the $\\hat{y}'s$ are to the corresponding $y^{(i)} \\text{'s}$. We define the **cost function**.\n",
        "\n",
        "\\begin{align*}\n",
        "J(β) = \\frac{1}{2} ∑_{i=1}^m (\\hat{y}^{(i)} - y^{(i)})^2\\tag{3}\n",
        "\\end{align*}\n",
        "\n",
        "The above equation is called **ordinary least squares** cost function.\n",
        "\n",
        "### <font color='darkblue'>Least Mean Square (LMS) Algorithm</font>\n",
        "\n",
        "**From Andrew Ng CS229** \n",
        "\n",
        "We want to choose $β$ so as to minimize $J(β)$. \n",
        " - We use a search algorithm that starts with some \"\"initial guess\" for $β$.\n",
        " - Repeatedly change $β$ to make $J(β)$ smaller, until hopefull we converge to a value of $β$ that minimizes $J(β)$.\n",
        " - **Gradient Descent** algorithm which starts with some initial $β$, and repeatedly performs update: \n",
        "\n",
        "\\begin{align*}\n",
        "β_j := β_j  - \\alpha \\frac{∂}{∂β_j} J(β)\n",
        "\\end{align*}\n",
        "\n",
        "(This update is simultaneously performed for all values of $j=0,1,\\ldots,n)$\n",
        "Here $α$ is called the **learning rate**. \n",
        "\n",
        "In order to implement this algorithm, we have to work out what is the partial derivative termof on the right hand side of our loss function.(i.e equation $3$)\n",
        "\n",
        "\\begin{align*}\n",
        "\\frac{∂}{∂β_j} J(β) &= \\frac{∂}{∂β_j} \\frac{1}{2}  (\\hat{y}^{(i)} - y^{(i)})^2\\\\\n",
        "&= 2. \\frac{1}{2} (\\hat{y}^{(i)} - y^{(i)}) \\frac{∂}{∂β_j}  (\\hat{y}^{(i)} - y^{(i)})\\\\\n",
        "&=  (\\hat{y}^{(i)} - y^{(i)})  \\frac{∂}{∂β_j} (∑_{i=0}^n β_ix_i - y)\\\\\n",
        "&= (\\hat{y}^{(i)} - y^{(i)}) x_j\n",
        "\\end{align*}\n",
        "\n",
        "For a single training example, this gives the update rule. \n",
        "\n",
        "\\begin{align*}\n",
        "β_j := β_j  +  \\alpha (y^{(i)} - \\hat{y}^{(i)}) x_j\n",
        "\\end{align*}\n",
        "\n",
        "This is called the **LMS** update rule.\n",
        "\n",
        "For instance, the magnitude of the update is proportional to the **error** term $(y^{(i)} - \\hat{y}^{(i)})$; thus, for instance, if we are encountering a training example on which our prediction nearly matches the actualy value of $y^{(i)}$, then we find there is little need to change the parameters; in contrast a larger change to the parameters will be made if our prediction $\\hat{y}^{(i)}$  has a large error. \n",
        "\n",
        "$\\hat{y}^{(i)} = \\hat{β}_0 +\\hat{β}_1x_i$ be the prediction for $Y$ on the $i$th value of $X$. Then $e_i = y^{(i)} - \\hat{y}^{(i)}$ represents the $i$th *residual* - this is the different between the $i$th observed response value that is predicted by our linear model. \n",
        "\n",
        "We define the **residual sum of squares(RSS)** as \n",
        "\n",
        "\\begin{align*}\n",
        "RSS = e_1^2 + e_2^2 +\\ldots +e_n^2\n",
        "\\end{align*}\n",
        "\n",
        "or equivalently as \n",
        "\n",
        "$RSS = (y_1 - \\hat{\\beta}_0 - \\hat{\\beta}_1 x_1)^2 + (y_2 - \\hat{\\beta}_0 - \\hat{\\beta}_1 x_2)^2 +\\ldots + (y_n - \\hat{\\beta}_0 - \\hat{\\beta}_1 x_n)^2$\n",
        "\n",
        "The least squares approach choose $\\hat{β}_0 \\text{ and } \\hat{β}_1$ to minimize the **RSS**."
      ],
      "metadata": {
        "id": "zZcVVsIKQa2E"
      }
    },
    {
      "cell_type": "code",
      "source": [
        "def simple_linear_regression(x,y,lr,iter):\n",
        "\n",
        "  n = len(x)\n",
        "  x = x.reshape(n,1)\n",
        "  y = y.reshape(n,1)\n",
        "\n",
        "\n",
        "  ones = np.ones((len(x),1))\n",
        "  X = np.hstack((ones,x))\n",
        "  theta = np.random.rand(X.shape[1],1)\n",
        "  \n",
        "\n",
        "  for i in range(0,iter):\n",
        "\n",
        "    # gradient descent update\n",
        "    err =  y - np.dot(X,theta)  \n",
        "    loss = (1/n) * np.sum((err)**2) #rss\n",
        "    #print(\"loss\",loss)\n",
        "\n",
        "    if abs(loss) < 1e-3:\n",
        "      return theta\n",
        "\n",
        "    g = -(2/n) * np.dot(err.T,X)  # gradient\n",
        "    d = np.array(g/np.linalg.norm(g)) # gradient direction\n",
        " \n",
        "    theta -=  (lr * d.T)\n",
        "    \n",
        "  return loss,theta,X\n"
      ],
      "metadata": {
        "id": "Ach-SWSZnxK0"
      },
      "execution_count": null,
      "outputs": []
    },
    {
      "cell_type": "code",
      "source": [
        "x = np.array(df.iloc[:,0])\n",
        "y = np.array(df.iloc[:,-1])\n",
        "lr = 0.01\n",
        "iter = 350000\n",
        "loss, theta,X = simple_linear_regression(x,y,lr,iter)\n",
        "print(\"loss:\",loss)\n",
        "print(\"The regression Coeffecients\",theta[0],theta[1])"
      ],
      "metadata": {
        "colab": {
          "base_uri": "https://localhost:8080/"
        },
        "id": "8hMmVNEVpG27",
        "outputId": "9400bc3a-c5eb-441b-b39b-066b5a263bb5"
      },
      "execution_count": null,
      "outputs": [
        {
          "output_type": "stream",
          "name": "stdout",
          "text": [
            "loss: 11.236264154840157\n",
            "The regression Coeffecients [7.01818963] [0.05261106]\n"
          ]
        }
      ]
    },
    {
      "cell_type": "code",
      "source": [
        "#Plotting\n",
        "y_pred = np.dot(X,theta)\n",
        "y_pred = y_pred.ravel()\n",
        "plt.figure(figsize=(6,4))\n",
        "plt.scatter(x,y,alpha=0.5,color='green',label='Scatter plot TV~Sales')\n",
        "plt.plot(x,y_pred,color='darkblue',linewidth=2,label='Regression Line')\n",
        "plt.grid()\n",
        "plt.legend()\n",
        "plt.show"
      ],
      "metadata": {
        "colab": {
          "base_uri": "https://localhost:8080/",
          "height": 282
        },
        "id": "hjtC9BH72Z1e",
        "outputId": "f8ffbc37-c9b1-4c85-eb1d-aa2e9ce57d90"
      },
      "execution_count": null,
      "outputs": [
        {
          "output_type": "execute_result",
          "data": {
            "text/plain": [
              "<function matplotlib.pyplot.show>"
            ]
          },
          "metadata": {},
          "execution_count": 8
        },
        {
          "output_type": "display_data",
          "data": {
            "image/png": "[encoded data removed]",
            "text/plain": [
              "<Figure size 432x288 with 1 Axes>"
            ]
          },
          "metadata": {
            "needs_background": "light"
          }
        }
      ]
    },
    {
      "cell_type": "code",
      "source": [
        "# Using Sklearn Library \n",
        "from sklearn.linear_model import LinearRegression\n",
        "\n",
        "reg = LinearRegression().fit(X, y)\n",
        "\n",
        "print(\"Regression Coefficeint beta-1: \", reg.coef_)\n",
        "print(\"Slope Intercept: \",reg.intercept_)\n",
        "y_pred_sklearn = reg.predict(X)"
      ],
      "metadata": {
        "colab": {
          "base_uri": "https://localhost:8080/"
        },
        "id": "XLVny3fv0l-G",
        "outputId": "4fb424a7-2f48-456b-9d44-0ce164c4b44d"
      },
      "execution_count": null,
      "outputs": [
        {
          "output_type": "stream",
          "name": "stdout",
          "text": [
            "Regression Coefficeint beta-1:  [0.         0.04753664]\n",
            "Slope Intercept:  7.032593549127696\n"
          ]
        }
      ]
    },
    {
      "cell_type": "markdown",
      "source": [
        "From our implementation, we get the value of coefficients: \n",
        "\n",
        "$\\beta_0 = 7.01750887$\\\n",
        "$\\beta_1 = 0.04261376$\n",
        "\n",
        "In other words, according to this approximation, an additional $\\$1000$ spent on TV advertising is associated with selling approximately 42.6 additional units of the product.\n"
      ],
      "metadata": {
        "id": "BGXMZBOw5hpK"
      }
    },
    {
      "cell_type": "markdown",
      "source": [
        "## 2. Accessing the Accuracy of the Coefficients Estimates\n",
        "\n",
        "To access the accuracy of the coefficient estimates, we follow the analogy with the estimation of the population mean $\\mu$ of the random variable $Y$. \n",
        "\n",
        "A natural questions is as follows : how accurate is the sample mean $\\hat{\\mu}$ as an estimate of $\\mu$? \n",
        "\n",
        "It has been established that, the average of $\\hat{\\mu}'s$ over many data sets will be very close to $\\mu$, but that a single estimate $\\hat{\\mu}$ may be substantial underestimate or overestimate of $\\mu$.\n",
        "\n",
        "### <font color='blue'>2.1  Standard Error </font>\n",
        "How far off will that single estimate of $\\hat{\\mu}$ be ? In general,we answer this questions by computing the **standard error** of $\\hat{\\mu}$, written as $SE(\\hat{\\mu})$.\n",
        "\n",
        "\\begin{align*}\n",
        "Var(\\hat{\\mu}) = SE(\\hat{\\mu})^2 = \\frac{σ^2}{n} \\tag{7}\n",
        "\\end{align*}\n",
        "\n",
        "where $σ$ is the standard deviation of each of the realizations of $y_i$ of $Y$.\n",
        "\n",
        "Roughly, speaking, the standard error tells us the average amount that this estimate $\\hat{\\mu}$ differs from the actual value of $\\mu$. \n",
        "The more observations we have, the smaller the standard error of $\\hat{\\mu}$ .\n",
        "\n",
        "In similar vein, we can wonder how close $\\hat{\\beta}_0$ and  $\\hat{\\beta}_1$ are to the true values of $\\beta_0 \\text{ and } \\beta_1$\n",
        "\n",
        "To compute the standard errors associated with $\\hat{\\beta}_0$ and  $\\hat{\\beta}_1$, we use the following formulas: \n",
        "\n",
        "\\begin{align*}\n",
        "&SE(\\hat{\\beta}_0)^2 = σ^2 \\big[ \\frac{1}{n} + \\frac{\\bar{x}^2}{∑_{i=1}^n \n",
        "(x_i - \\bar{x})^2} \\big],\\\\\n",
        "&SE(\\hat{\\beta}_1)^2 =  \\frac{σ^2}{∑_{i=1}^n \n",
        "(x_i - \\bar{x})^2} \n",
        "\\end{align*}\n",
        "\n",
        "where $σ^2 = Var(ϵ)$. For these formulas to be strickly valid, we need to assume that the errors $ϵ_i$, for each observation have common variance $σ^2$ and are uncorrelated. \n",
        "\n",
        "In general, $σ^2$ is not known, but can be estimated from the data. This estimate of $σ$ is known as the *residual standard error*, and is given by the formula $RSE = \\sqrt{RSS/(n-2)}$.\n",
        "\n",
        "Standard Errors, can be used to compute *confidence intervals*. A $ 95 \\%$ confidence interval is defined as a rangle of values such that with $95 \\%$ probability, the range will contain the true unknown value of the parameter.\n",
        "\n",
        "The range is defined in terms of the lower and upper limits computed from the sample of data. A$95\\%$ confidence interval has the following properties: \n",
        "\n",
        "- if we take repeated samples and construct the confidence interval for each sample, $95 \\%$  of the intervals will contain the true unknown value of the parameter.\n",
        "\n",
        "For the linear regression, the $95 \\%$  confidence interval for $\\beta_1$ approximately takes the form :        \n",
        "\n",
        "\\begin{align*}\n",
        "\\hat{\\beta}_1 \\pm 2.SE(\\hat{\\beta}_1)\n",
        "\\end{align*}\n",
        "\n",
        "That is, there is approximately a $95 \\%$  chance that the interval \n",
        "\n",
        "\\begin{align*}\n",
        "[\\hat{\\beta}_1 - 2.SE(\\hat{\\beta}_1),\\hat{\\beta}_1 + 2. SE(\\hat{\\beta}_1)]\n",
        "\\end{align*}\n",
        "\n",
        "Similarly, confidence interval for $\\beta_0$ approximately takes the form :\n",
        "\n",
        "\\begin{align*}\n",
        "\\hat{\\beta}_0 \\pm 2.SE(\\hat{\\beta}_0)\n",
        "\\end{align*}"
      ],
      "metadata": {
        "id": "7b4Ug3PRzGLT"
      }
    },
    {
      "cell_type": "code",
      "source": [
        "# Computing Standard Error of the Regression coefficients \n",
        "import math\n",
        "n = len(df)\n",
        "mean = np.mean(df.iloc[:,0],axis=0)\n",
        "mean_diff = np.sum(np.square(df.iloc[:,0] - mean))\n",
        "rss = np.sum(np.square(y-y_pred))\n",
        "rse = math.sqrt(rss/(n-2))\n",
        "\n",
        "se_theta_0 = rse * math.sqrt((1/n) + ((mean**2)/mean_diff))\n",
        "se_theta_1 = math.sqrt(1/ mean_diff) * rse\n",
        "\n",
        "print(\"Standard Error of Theta0 :\",se_theta_0)\n",
        "print(\"Standard Error of Theta1 :\",se_theta_1)\n",
        "print(\"The confidence Interval of Theta0:\",\"(\",theta[0] - 2*se_theta_0,\"-\",theta[0]+  2*se_theta_0,\")\")\n",
        "print(\"The confidence Interval of Theta1:\",\"(\",theta[1] - 2*se_theta_1,\"-\",theta[1]+ 2*se_theta_1,\")\")"
      ],
      "metadata": {
        "colab": {
          "base_uri": "https://localhost:8080/"
        },
        "id": "fDspTAhetpQL",
        "outputId": "dab75f32-c142-4547-f8e4-c4958c5219a5"
      },
      "execution_count": null,
      "outputs": [
        {
          "output_type": "stream",
          "name": "stdout",
          "text": [
            "Standard Error of Theta0 : 0.47334685682255606\n",
            "Standard Error of Theta1 : 0.0027817191077077327\n",
            "The confidence Interval of Theta0: ( [6.07052591] - [7.96391333] )\n",
            "The confidence Interval of Theta1: ( [0.03705098] - [0.04817786] )\n"
          ]
        }
      ]
    },
    {
      "cell_type": "markdown",
      "source": [
        "In the case of the advertising data, the $95\\%$ confidence interval for $β_0$ is $[6.0705- 7.9639]$ and the $95\\%$ confidence interval for $β_1$ is $[0.0370 - 0.04817] $.\n",
        "\n",
        "Therefore, we can conclude that in the absence of any advertising ,sales will on average fall somewhere between $60705$ and $7936$ units. Furthermore, for each $\\$1000$ increase in television advertising, there will be an average increase in sales of between $37 \\text{ to } 48$ units.\n",
        "\n",
        "### <font color='blue'>2.2 Hypothesis Test, t-statistic & p-value</font>\n",
        "\n",
        "Standard errors can also be used to perform **hypothesis tests** on the coefficients. \n",
        "\n",
        "**The Null Hypothesis**\n",
        "\n",
        "\\begin{align*}\n",
        "H_0 = \\text{ There is no relationship between $X$ and $Y$ }\n",
        "\\end{align*}\n",
        "\n",
        "**The alternate hypothesis**\n",
        "\n",
        "\\begin{align*}\n",
        "H_1 = \\text{ There is some relationship between $X$ and $Y$ }\n",
        "\\end{align*}\n",
        "\n",
        "Mathematically, this corresponds to testing: \n",
        "\n",
        "\\begin{align*}\n",
        "H_0 : β_1 = 0\n",
        "\\end{align*}\n",
        "\n",
        "versus\n",
        "\n",
        "\\begin{align*}\n",
        "H_0 : β_1 \\neq 0\n",
        "\\end{align*}\n",
        "\n",
        "\n",
        "since if $β_1=0$ then the model reduces to $Y = β_0 + ϵ$, and $X$ is not associated with $Y$.\n",
        "\n",
        "To test the null hypothesis we need to detemine, whether $\\hat{β}_1$, our estimate for $β_1$, is sufficiently far from zero that we can be confident that $β_1$ is non-zero. \n",
        "\n",
        "How far is far enough? \n",
        "\n",
        "This depends on the accuracy of $\\hat{β}_1$ - that is : it depends on the $SE(\\hat{β}_1)$. If $𝑆Ε(\\hat{β}_1)$ is small, then even relatively small values of $\\hat{β}_1$ may provide strong evidence that $β_1 \\neq 0$, and hence that there is a relationship between $X$ and $Y$. In contrast, if $𝑆Ε(\\hat{β}_1)$ is large, then  $\\hat{β}_1$ must be large in absolute value in order for us to reject the null hypothesis. \n",
        "\n",
        "In practice we compute the *t-statistics*\n",
        "\n",
        "\\begin{align*}\n",
        "t = \\frac{β_1 - 0}{SE(\\hat{β}_1)},\n",
        "\\end{align*}\n",
        "\n",
        "which measures then umber of standard deviations that $\\hat{\\beta}_1$ is away from $0$.\n",
        "\n",
        "Consequently, it is a simple matter to compute the probability of observing any number equal to $|t|$ or larger in absolute value, assuming $β_1=0$. We call this probability the **p-value**.\n",
        "\n",
        "We interpret p-values as follows: a small p-value indicates that it is unlikely to observe such a a substantial association between the prediction and the response due to chance, in the absence of any real association between the prediction and the response. Hence, if we see a small *p-value*, then we infer that there is an association between the predictor and the response. \n",
        "\n",
        "We reject the Null hypothesis.\n",
        "\n",
        "- Typical p-value cutoffs for rejecting the null hypothesis are $5\\% \\text { or } 1\\%$"
      ],
      "metadata": {
        "id": "AInKfHL84Sl5"
      }
    },
    {
      "cell_type": "code",
      "source": [
        "# calculate the t-statistic and the p-value\n",
        "from scipy.stats import t\n",
        "\n",
        "#t-statistic and p-value for Slope \n",
        "\n",
        "ttest1= (theta[1] - 0)/se_theta_1\n",
        "pval1 = t.sf(np.abs(ttest1), n-2)*2  # two-sided pvalue = Prob(abs(t)>tt)\n",
        "print ('t-statistic = %6.3f pvalue = %6.4f' % (ttest1, pval1))\n",
        "\n",
        "#t-statistic and p-value for Intercept \n",
        "\n",
        "ttest0 = (theta[0] - 0)/se_theta_0\n",
        "pval0 = t.sf(np.abs(ttest0), n-2)*2  # two-sided pvalue = Prob(abs(t)>tt)\n",
        "print ('t-statistic = %6.3f pvalue = %6.4f' % (ttest0, pval0))"
      ],
      "metadata": {
        "colab": {
          "base_uri": "https://localhost:8080/"
        },
        "id": "66cOqGc7_uJk",
        "outputId": "40480238-f068-4589-819d-fcbe4a131f44"
      },
      "execution_count": null,
      "outputs": [
        {
          "output_type": "stream",
          "name": "stdout",
          "text": [
            "t-statistic = 18.913 pvalue = 0.0000\n",
            "t-statistic = 14.827 pvalue = 0.0000\n"
          ]
        }
      ]
    },
    {
      "cell_type": "code",
      "source": [
        "# The Summary statistic of the Simple Linear Regression Advertising data\n",
        "reg_summary_df = pd.DataFrame({'Coefficient': [theta[0], theta[1]],\n",
        "                   'Std Error': [se_theta_0, se_theta_1],\n",
        "                   't-statistic': [ttest0, ttest1],\n",
        "                   'p_value' : [pval0,pval1]},\n",
        "                  index=['Intercept', 'slope'])\n",
        "\n",
        "reg_summary_df"
      ],
      "metadata": {
        "colab": {
          "base_uri": "https://localhost:8080/",
          "height": 112
        },
        "id": "hdYDUCDEBjjr",
        "outputId": "7f9e6ebd-bf77-453f-948b-25e9f703119c"
      },
      "execution_count": null,
      "outputs": [
        {
          "output_type": "execute_result",
          "data": {
            "text/html": [
              "\n",
              "  <div id=\"df-3c0184ac-3069-4927-8ce1-00b8b26fd252\">\n",
              "    <div class=\"colab-df-container\">\n",
              "      <div>\n",
              "<style scoped>\n",
              "    .dataframe tbody tr th:only-of-type {\n",
              "        vertical-align: middle;\n",
              "    }\n",
              "\n",
              "    .dataframe tbody tr th {\n",
              "        vertical-align: top;\n",
              "    }\n",
              "\n",
              "    .dataframe thead th {\n",
              "        text-align: right;\n",
              "    }\n",
              "</style>\n",
              "<table border=\"1\" class=\"dataframe\">\n",
              "  <thead>\n",
              "    <tr style=\"text-align: right;\">\n",
              "      <th></th>\n",
              "      <th>Coefficient</th>\n",
              "      <th>Std Error</th>\n",
              "      <th>t-statistic</th>\n",
              "      <th>p_value</th>\n",
              "    </tr>\n",
              "  </thead>\n",
              "  <tbody>\n",
              "    <tr>\n",
              "      <th>Intercept</th>\n",
              "      <td>[7.018189633395962]</td>\n",
              "      <td>0.473347</td>\n",
              "      <td>[14.82673758627466]</td>\n",
              "      <td>[6.042971040508357e-34]</td>\n",
              "    </tr>\n",
              "    <tr>\n",
              "      <th>slope</th>\n",
              "      <td>[0.05261106036939522]</td>\n",
              "      <td>0.002782</td>\n",
              "      <td>[18.91314627117373]</td>\n",
              "      <td>[3.003513105157816e-46]</td>\n",
              "    </tr>\n",
              "  </tbody>\n",
              "</table>\n",
              "</div>\n",
              "      <button class=\"colab-df-convert\" onclick=\"convertToInteractive('df-3c0184ac-3069-4927-8ce1-00b8b26fd252')\"\n",
              "              title=\"Convert this dataframe to an interactive table.\"\n",
              "              style=\"display:none;\">\n",
              "        \n",
              "  <svg xmlns=\"http://www.w3.org/2000/svg\" height=\"24px\"viewBox=\"0 0 24 24\"\n",
              "       width=\"24px\">\n",
              "    <path d=\"M0 0h24v24H0V0z\" fill=\"none\"/>\n",
              "    <path d=\"M18.56 5.44l.94 2.06.94-2.06 2.06-.94-2.06-.94-.94-2.06-.94 2.06-2.06.94zm-11 1L8.5 8.5l.94-2.06 2.06-.94-2.06-.94L8.5 2.5l-.94 2.06-2.06.94zm10 10l.94 2.06.94-2.06 2.06-.94-2.06-.94-.94-2.06-.94 2.06-2.06.94z\"/><path d=\"M17.41 7.96l-1.37-1.37c-.4-.4-.92-.59-1.43-.59-.52 0-1.04.2-1.43.59L10.3 9.45l-7.72 7.72c-.78.78-.78 2.05 0 2.83L4 21.41c.39.39.9.59 1.41.59.51 0 1.02-.2 1.41-.59l7.78-7.78 2.81-2.81c.8-.78.8-2.07 0-2.86zM5.41 20L4 18.59l7.72-7.72 1.47 1.35L5.41 20z\"/>\n",
              "  </svg>\n",
              "      </button>\n",
              "      \n",
              "  <style>\n",
              "    .colab-df-container {\n",
              "      display:flex;\n",
              "      flex-wrap:wrap;\n",
              "      gap: 12px;\n",
              "    }\n",
              "\n",
              "    .colab-df-convert {\n",
              "      background-color: #E8F0FE;\n",
              "      border: none;\n",
              "      border-radius: 50%;\n",
              "      cursor: pointer;\n",
              "      display: none;\n",
              "      fill: #1967D2;\n",
              "      height: 32px;\n",
              "      padding: 0 0 0 0;\n",
              "      width: 32px;\n",
              "    }\n",
              "\n",
              "    .colab-df-convert:hover {\n",
              "      background-color: #E2EBFA;\n",
              "      box-shadow: 0px 1px 2px rgba(60, 64, 67, 0.3), 0px 1px 3px 1px rgba(60, 64, 67, 0.15);\n",
              "      fill: #174EA6;\n",
              "    }\n",
              "\n",
              "    [theme=dark] .colab-df-convert {\n",
              "      background-color: #3B4455;\n",
              "      fill: #D2E3FC;\n",
              "    }\n",
              "\n",
              "    [theme=dark] .colab-df-convert:hover {\n",
              "      background-color: #434B5C;\n",
              "      box-shadow: 0px 1px 3px 1px rgba(0, 0, 0, 0.15);\n",
              "      filter: drop-shadow(0px 1px 2px rgba(0, 0, 0, 0.3));\n",
              "      fill: #FFFFFF;\n",
              "    }\n",
              "  </style>\n",
              "\n",
              "      <script>\n",
              "        const buttonEl =\n",
              "          document.querySelector('#df-3c0184ac-3069-4927-8ce1-00b8b26fd252 button.colab-df-convert');\n",
              "        buttonEl.style.display =\n",
              "          google.colab.kernel.accessAllowed ? 'block' : 'none';\n",
              "\n",
              "        async function convertToInteractive(key) {\n",
              "          const element = document.querySelector('#df-3c0184ac-3069-4927-8ce1-00b8b26fd252');\n",
              "          const dataTable =\n",
              "            await google.colab.kernel.invokeFunction('convertToInteractive',\n",
              "                                                     [key], {});\n",
              "          if (!dataTable) return;\n",
              "\n",
              "          const docLinkHtml = 'Like what you see? Visit the ' +\n",
              "            '<a target=\"_blank\" href=https://colab.research.google.com/notebooks/data_table.ipynb>data table notebook</a>'\n",
              "            + ' to learn more about interactive tables.';\n",
              "          element.innerHTML = '';\n",
              "          dataTable['output_type'] = 'display_data';\n",
              "          await google.colab.output.renderOutput(dataTable, element);\n",
              "          const docLink = document.createElement('div');\n",
              "          docLink.innerHTML = docLinkHtml;\n",
              "          element.appendChild(docLink);\n",
              "        }\n",
              "      </script>\n",
              "    </div>\n",
              "  </div>\n",
              "  "
            ],
            "text/plain": [
              "                     Coefficient  ...                  p_value\n",
              "Intercept    [7.018189633395962]  ...  [6.042971040508357e-34]\n",
              "slope      [0.05261106036939522]  ...  [3.003513105157816e-46]\n",
              "\n",
              "[2 rows x 4 columns]"
            ]
          },
          "metadata": {},
          "execution_count": 40
        }
      ]
    },
    {
      "cell_type": "code",
      "source": [
        "# The same values, we can get from the statsmodels Python Library\n",
        "import statsmodels.api as sm\n",
        "X = sm.add_constant(x.ravel())\n",
        "results = sm.OLS(y,x).fit()\n",
        "print(results.summary())"
      ],
      "metadata": {
        "colab": {
          "base_uri": "https://localhost:8080/"
        },
        "id": "n86N2zjhDYJc",
        "outputId": "541b0645-c89f-46ee-fe74-6fbde8f68346"
      },
      "execution_count": null,
      "outputs": [
        {
          "output_type": "stream",
          "name": "stdout",
          "text": [
            "                                 OLS Regression Results                                \n",
            "=======================================================================================\n",
            "Dep. Variable:                      y   R-squared (uncentered):                   0.897\n",
            "Model:                            OLS   Adj. R-squared (uncentered):              0.896\n",
            "Method:                 Least Squares   F-statistic:                              1733.\n",
            "Date:                Wed, 16 Feb 2022   Prob (F-statistic):                   3.52e-100\n",
            "Time:                        10:26:33   Log-Likelihood:                         -597.51\n",
            "No. Observations:                 200   AIC:                                      1197.\n",
            "Df Residuals:                     199   BIC:                                      1200.\n",
            "Df Model:                           1                                                  \n",
            "Covariance Type:            nonrobust                                                  \n",
            "==============================================================================\n",
            "                 coef    std err          t      P>|t|      [0.025      0.975]\n",
            "------------------------------------------------------------------------------\n",
            "x1             0.0832      0.002     41.633      0.000       0.079       0.087\n",
            "==============================================================================\n",
            "Omnibus:                       20.228   Durbin-Watson:                   1.707\n",
            "Prob(Omnibus):                  0.000   Jarque-Bera (JB):               23.930\n",
            "Skew:                          -0.846   Prob(JB):                     6.36e-06\n",
            "Kurtosis:                       3.086   Cond. No.                         1.00\n",
            "==============================================================================\n",
            "\n",
            "Warnings:\n",
            "[1] Standard Errors assume that the covariance matrix of the errors is correctly specified.\n"
          ]
        }
      ]
    },
    {
      "cell_type": "markdown",
      "source": [
        "## 3. Accessing the Accuracy of the Model\n",
        "\n",
        "Once we have rejected the null hypothesis in favor of the alternative hypothesis, it is natural to want to quantify the **extent to which the model fits the data**. The quality of a linear regression fit is typically assessed unsing the two related quantities : **The Residual Standard Error(RSE) and the $R^2$ statistic**\n",
        "\n",
        "### <font color='blue'>3.1  Residual Standard Error</font>\n",
        "\n",
        "- We recall, that each observation has an associated error term $ϵ$. Due to the presence of these error terms, even if we knew the true regression line,(true β_0, β_1), we would not be able to perfectly predict $Y$ from $X$. \n",
        "\n",
        "- The $RSE$ is an estimate of the standard deviation of $ϵ$. \n",
        "\n",
        "It is the average amount that the response will deviate from the true regression line. \n",
        "\n",
        "\\begin{align*}\n",
        "RSE = \\sqrt{ \\frac{1}{n-2} RSS} = \\sqrt{ \\frac{1}{n-2} (y_i - \\hat{y}_i)^2}\n",
        "\\end{align*}\n",
        "\n",
        "RSE of advertisement data: \n"
      ],
      "metadata": {
        "id": "n51ofIlwEwuV"
      }
    },
    {
      "cell_type": "code",
      "source": [
        "RSE = np.sqrt(1/(n-2)*np.sum(np.square(y-y_pred)))\n",
        "print(\"RSE:\",RSE)"
      ],
      "metadata": {
        "colab": {
          "base_uri": "https://localhost:8080/"
        },
        "id": "8MadteTlGfx0",
        "outputId": "dc2ef444-284e-4e60-ca29-709bcf2f8d83"
      },
      "execution_count": null,
      "outputs": [
        {
          "output_type": "stream",
          "name": "stdout",
          "text": [
            "RSE: 3.369004114476791\n"
          ]
        }
      ]
    },
    {
      "cell_type": "markdown",
      "source": [
        "In other words, the acutal sales in each market deviate from the true regression line by approximately $3,260$ units, on average. \n",
        "\n",
        "Another way to think about this is that even if the nodel were correct and the true value of the unknonw coefficients $β_0 \\text{ and } β_1$ were known exactly,  any prediction of sales on the basis of TV advertising would still be off by $3,260$ units on average. \n",
        "\n",
        "In the advertising data set, the mean value of sales over all markets is approximately $14,000$ units, and so the percentage error is $3,260/14,000 = 23\\%$.\n",
        "\n",
        "The RSE is considered **a measure of the lack of fit of the mode to the data**.\n",
        "\n",
        "If the predictions obtained using the model are very close to the true outcomes values then RSE will be small, and we can conclude that the model fits the data very well. \n",
        "\n",
        "On the other hand, if $\\hat{y}_i$ is very far from $y_i$ for one or more observations, then the RSE may be quite large, indicating that the model doesn't fit the data well."
      ],
      "metadata": {
        "id": "jIrHyYXqEw4M"
      }
    },
    {
      "cell_type": "markdown",
      "source": [
        "### <font color='blue'>3.2  $R^2$ Statistic</font>\n",
        "\n",
        "*The RSE provides an absolute measure of the lack of fit of the model to the data. But since it is measure in the units of $Y$, it is not always clear what constitutes a good RSE.* \n",
        "\n",
        "The $R^2$ statistics provides an alternative measure of fit.\n",
        "\n",
        "- It takes the form of a **proportion**- the proportion of variance explained.\n",
        "- It always takes value between $0$ and $1$, that is independent of the scale of $Y$.\n",
        "\n",
        "\\begin{align*}\n",
        "R^2 = \\frac{TSS - RSS}{TSS} = 1 - \\frac{RSS}{TSS}\n",
        "\\end{align*}\n",
        "\n",
        "where $TSS = ∑(y_i -\\bar{y})^2$ is the *total sum of squares* \n",
        "\n",
        "- TSS measures the total variance in the response $Y$, and can be thought of as the amount of variability inherent in the response before the regression is performed.\n",
        "\n",
        "- In contrast, RSS measures the amount of variability that is left unexplained after performing the regression. \n",
        "\n",
        "Hence, TSS-RSS measure the amount of variability in the response that is explained ( or removed) by performing the regression  and $R^2$ **measures the proportion of variability in $Y$ that can beexplained using $X$.\n",
        "\n",
        "- An $R^2$ statistic that is close to $1$ indicates that a large proportion of the variability in the response is explained by the regression. \n",
        "\n",
        "- A number $0$ indicates that the regression does not explain much of the variability in the response\n",
        "  - Might occur if the model is wrong.\n",
        "  - Error variance $σ^2$ is high or both.\n",
        "\n",
        "But, it is still challenging to determine a good $R^2$ value.\n",
        "In applications in biology, psycology, marketing, and other domains, the linear model is at best  an extremely rough approximation to the data.  In this setting, we would expect only a very small proportion of the variance in the response to be explained by the predictor, and the $R^2$ value well below $0.1$ might be more realistic. \n",
        "\n",
        "### <font color='blue'>3.3  Correlation </font>\n",
        "\n",
        "\\begin{align*}\n",
        "Cor(X,Y) = \\frac{∑_{i=1}^n (x_i -\\bar{x})(y_i-\\bar{y})}{\\sqrt{∑_{i=1}^n(x_i-\\bar{x})^2}\\sqrt{∑_{i=1}^n (y_i -\\bar{y})^2}}\n",
        "\\end{align*}\n",
        "\n",
        "is also a measure of linear relationship between $X$ and $Y$.\n",
        "$r = Cor(X,Y)$. "
      ],
      "metadata": {
        "id": "ggYQuVQhIHZ5"
      }
    },
    {
      "cell_type": "code",
      "source": [
        "#Calculating the R^2 Statistic\n",
        "y_mean = np.mean(y)\n",
        "TSS = np.sum(np.square(y- y_mean))\n",
        "RSS = np.sum(np.square(y-y_pred))\n",
        "R2 = 1 - (RSS/TSS)\n",
        "print(\"The value of R^2: \",R2)\n",
        "\n",
        "# Calculate the correlation coeffecient. \n",
        "x_mean = np.mean(x)\n",
        "corr = np.sum((x-x_mean)*(y-y_mean))/(np.sqrt(np.sum(np.square(x-x_mean)))* np.sqrt(np.sum(np.square(y-y_mean))))\n",
        "print(\"The Correlation Coefficient:\",corr,corr**2)"
      ],
      "metadata": {
        "colab": {
          "base_uri": "https://localhost:8080/"
        },
        "id": "PIG7mYg9Nzfc",
        "outputId": "2b1864d4-261b-43ed-a1a4-e7534014a434"
      },
      "execution_count": null,
      "outputs": [
        {
          "output_type": "stream",
          "name": "stdout",
          "text": [
            "The value of R^2:  0.5851438697847118\n",
            "The Correlation Coefficient: 0.7822244248616063 0.6118750508500707\n"
          ]
        }
      ]
    },
    {
      "cell_type": "code",
      "source": [
        "# Pearson Correlation \n",
        "from scipy import stats\n",
        "pearson_corr = stats.pearsonr(x,y)[0]\n",
        "print(\"Pearson Correlation\",pearson_corr)"
      ],
      "metadata": {
        "colab": {
          "base_uri": "https://localhost:8080/"
        },
        "id": "l33HwwWwPQy6",
        "outputId": "c2730c0a-c75d-4b20-8ced-de258a379c5d"
      },
      "execution_count": null,
      "outputs": [
        {
          "output_type": "stream",
          "name": "stdout",
          "text": [
            "Pearson Correlation 0.7822244248616065\n"
          ]
        }
      ]
    },
    {
      "cell_type": "markdown",
      "source": [
        "# Multiple Linear Regression "
      ],
      "metadata": {
        "id": "pIX9dIcWM_eA"
      }
    },
    {
      "cell_type": "markdown",
      "source": [
        "\n",
        "\n",
        " Simple Linear regression is a useful approach for predicting a response on the basis of a single predictor variable. However, in practice we often have more than one predictor. \n",
        "\n",
        "How can we extend our analysis of the advertising data in order to accomodate these two additional predictors?\n",
        "\n",
        "- One option is to run three seperate simple linear regression, each of which uses a different advertising medium as a predictor. \n",
        "\n",
        "- For instance we can fit a simple linear regression to predict sales on the basis of the amount spent on radio advertisements.\n",
        "\n",
        "However, the approach of fitting a seperate simple linear regression model for each predictor is not entirely satisfactory. \n",
        "\n",
        "- It is unclear how to make a single prediction of sales given the three advertising media budgets, since each of the budgets is associated with a seperate regression equation.\n",
        "- Second, each of the three regression equations ignores the other two media in forming estimates for the regression coefficients. \n",
        "\n",
        "Instead of fitting a seperate simple linear regression model for each predictor, a better approach is to extend the simple linear regression model, so that it can directly accomodate multiple predictors. \n",
        "\n",
        "Multiple regression takes the form:  \n",
        "\n",
        "\\begin{align*}\n",
        "Y = β_0 + β_1X_1 +β_2X_2+\\ldots+β_pX_p + ϵ,\\tag{10}\n",
        "\\end{align*}\n",
        "\n",
        "where $X_j$ represents the jth predictor and $β_j$ quantifies the association between that variable and the response. \n",
        "\n",
        "**We interpret $β_j$ as the <font color='blue'>average effect on $Y$ of a one unit increase in $X_j$, holdingall other predictors fixed.</font>**\n",
        "\n",
        "In the advertising example, equation $(10)$ becomes\n",
        " \n",
        "\n",
        "\\begin{align*}\n",
        "sales = β_0 + β_1 × \\text {TV} +β_2 × \\text{ radio } +β_3 × \\text{ newspaper } + ϵ \\tag{11}\n",
        "\\end{align*}\n"
      ],
      "metadata": {
        "id": "l2bhU3iC5SVz"
      }
    },
    {
      "cell_type": "code",
      "source": [
        "def multiple_linear_regression(x,y,lr,iter):\n",
        "\n",
        "  n = len(x)\n",
        "  x = x.reshape(n,x.shape[1])\n",
        "  y = y.reshape(n,1)\n",
        "\n",
        "\n",
        "  ones = np.ones((len(x),1))\n",
        "  X = np.hstack((ones,x))\n",
        "  theta = np.random.rand(X.shape[1],1)\n",
        "  \n",
        "\n",
        "  for i in range(0,iter):\n",
        "\n",
        "    # gradient descent update\n",
        "    err =  y - np.dot(X,theta)  \n",
        "    loss = (1/n) * np.sum((err)**2) #rss\n",
        "    #print(\"loss\",loss)\n",
        "\n",
        "    if abs(loss) < 1e-3:\n",
        "      return theta\n",
        "\n",
        "    g = -(2/n) * np.dot(err.T,X)  # gradient\n",
        "    d = np.array(g/np.linalg.norm(g)) # gradient direction\n",
        " \n",
        "    theta -=  (lr * d.T)\n",
        "    \n",
        "  return loss,theta,X"
      ],
      "metadata": {
        "id": "5LsrJ-EbIDYF"
      },
      "execution_count": null,
      "outputs": []
    },
    {
      "cell_type": "code",
      "source": [
        "x = np.array(df.iloc[:,0:-1])\n",
        "y = np.array(df.iloc[:,-1])\n",
        "lr = 0.001\n",
        "iter = 400000\n",
        "loss, theta,X = multiple_linear_regression(x,y,lr,iter)\n",
        "theta = theta.ravel()"
      ],
      "metadata": {
        "id": "G9DqOZIEIIa3"
      },
      "execution_count": null,
      "outputs": []
    },
    {
      "cell_type": "code",
      "source": [
        "#print(\"loss:\",loss)\n",
        "print(\"The regression Coeffecients :\\n Intercept =%6.3f\\n TV =%6.3f\\n Radio =%6.3f\\n Newspaper =%6.3f\" %(theta[0],theta[1],theta[2],theta[3]))"
      ],
      "metadata": {
        "colab": {
          "base_uri": "https://localhost:8080/"
        },
        "id": "I_gka9HSKL_S",
        "outputId": "43c4f5d1-9c9c-4d70-df72-bebc17dfd032"
      },
      "execution_count": null,
      "outputs": [
        {
          "output_type": "stream",
          "name": "stdout",
          "text": [
            "The regression Coeffecients :\n",
            " Intercept = 2.882\n",
            " TV = 0.045\n",
            " Radio = 0.189\n",
            " Newspaper =-0.001\n"
          ]
        }
      ]
    },
    {
      "cell_type": "code",
      "source": [
        "# Sklearn Library\n",
        "from sklearn.linear_model import LinearRegression\n",
        "\n",
        "reg = LinearRegression().fit(X, y)\n",
        "\n",
        "print(\"Regression Coefficeint beta-1: \", reg.coef_)\n",
        "print(\"Slope Intercept: \",reg.intercept_)\n",
        "y_pred_sklearn = reg.predict(X)"
      ],
      "metadata": {
        "colab": {
          "base_uri": "https://localhost:8080/"
        },
        "id": "BF1uNsDtI234",
        "outputId": "44b5b8cb-bfc1-4365-d008-cc9dcc0614f3"
      },
      "execution_count": null,
      "outputs": [
        {
          "output_type": "stream",
          "name": "stdout",
          "text": [
            "Regression Coefficeint beta-1:  [ 0.          0.04576465  0.18853002 -0.00103749]\n",
            "Slope Intercept:  2.9388893694594103\n"
          ]
        }
      ]
    },
    {
      "cell_type": "code",
      "source": [
        "# The same values, we can get from the statsmodels Python Library\n",
        "import statsmodels.api as sm\n",
        "X = sm.add_constant(x.ravel())\n",
        "results = sm.OLS(y,x).fit()\n",
        "print(results.summary())"
      ],
      "metadata": {
        "colab": {
          "base_uri": "https://localhost:8080/"
        },
        "id": "Dv_KFcSGIt3e",
        "outputId": "adc13397-2e95-486f-88af-475c41ec5930"
      },
      "execution_count": null,
      "outputs": [
        {
          "output_type": "stream",
          "name": "stdout",
          "text": [
            "                                 OLS Regression Results                                \n",
            "=======================================================================================\n",
            "Dep. Variable:                      y   R-squared (uncentered):                   0.982\n",
            "Model:                            OLS   Adj. R-squared (uncentered):              0.982\n",
            "Method:                 Least Squares   F-statistic:                              3566.\n",
            "Date:                Wed, 16 Feb 2022   Prob (F-statistic):                   2.43e-171\n",
            "Time:                        15:36:08   Log-Likelihood:                         -423.54\n",
            "No. Observations:                 200   AIC:                                      853.1\n",
            "Df Residuals:                     197   BIC:                                      863.0\n",
            "Df Model:                           3                                                  \n",
            "Covariance Type:            nonrobust                                                  \n",
            "==============================================================================\n",
            "                 coef    std err          t      P>|t|      [0.025      0.975]\n",
            "------------------------------------------------------------------------------\n",
            "x1             0.0538      0.001     40.507      0.000       0.051       0.056\n",
            "x2             0.2222      0.009     23.595      0.000       0.204       0.241\n",
            "x3             0.0168      0.007      2.517      0.013       0.004       0.030\n",
            "==============================================================================\n",
            "Omnibus:                        5.982   Durbin-Watson:                   2.038\n",
            "Prob(Omnibus):                  0.050   Jarque-Bera (JB):                7.039\n",
            "Skew:                          -0.232   Prob(JB):                       0.0296\n",
            "Kurtosis:                       3.794   Cond. No.                         12.6\n",
            "==============================================================================\n",
            "\n",
            "Warnings:\n",
            "[1] Standard Errors assume that the covariance matrix of the errors is correctly specified.\n"
          ]
        }
      ]
    },
    {
      "cell_type": "markdown",
      "source": [
        "As from the illustration we can see that, the simple and multiple regression coefficients can be quite different.  This difference stems from the fact that in the simple regression case, the slope term represents the average increase in product sales associated with a $\\$1000$ increase in newspaper advertising, ignoring other predictors such as TV and radio fixed."
      ],
      "metadata": {
        "id": "vq-iEhOan3fo"
      }
    },
    {
      "cell_type": "code",
      "source": [
        "corr_matrix = df.corr()\n",
        "print(corr_matrix.iloc[0:-1,:])"
      ],
      "metadata": {
        "colab": {
          "base_uri": "https://localhost:8080/"
        },
        "id": "-uL1Elw6pj5c",
        "outputId": "82694785-a278-46a0-9a1f-531e20481442"
      },
      "execution_count": null,
      "outputs": [
        {
          "output_type": "stream",
          "name": "stdout",
          "text": [
            "                 TV     radio  newspaper     sales\n",
            "TV         1.000000  0.054809   0.056648  0.782224\n",
            "radio      0.054809  1.000000   0.354104  0.576223\n",
            "newspaper  0.056648  0.354104   1.000000  0.228299\n"
          ]
        }
      ]
    },
    {
      "cell_type": "markdown",
      "source": [
        "Consider, the correlation matrix for the three prediction variables and the response variable . Notice that the correlation between radio and newspaper is $0.35$. This indicates that markets with high newspaper advertising tend to also have high radio advertising. \n",
        "As ,we can see form the multiple regression, that newspaper advertising is not associated with sales, but radio advertising is associated with sales. \n",
        "\n",
        "Then in markets where we spend more on radio our sales will tend to be higher and as our correlation matrix shows, we also tend to spend more on newspaper advertising in those same markets.\n",
        "\n",
        "Hence, in a simple linear regression which only examines **sales** versus **newspaper**, we will observe that higher values of newspaper tend to be associated with higher values of sales, even though newspaper advertising is not directly assocated with sales. \n",
        "\n",
        "**So, newspaper advertising is a surrogate for radio advertising, newspaper gets credit for the association between radio on sales.**"
      ],
      "metadata": {
        "id": "XMvvRJ-xqG9T"
      }
    },
    {
      "cell_type": "markdown",
      "source": [
        "# Questions \n",
        "\n",
        "1. Is at least one of the predictors $X_1,X_2,\\ldots,X_p$ useful in predicting the response ? \n",
        "2. Do all the predictors help to explain $Y$, or is only a subset of the predictors useful ?\n",
        "3. How well does the model fit the data? \n",
        "4. Given a set of Predictor values, what response value should we predict and how accurate is our prediction ? "
      ],
      "metadata": {
        "id": "Pm9_wp7cPGRW"
      }
    },
    {
      "cell_type": "markdown",
      "source": [
        "<font color='blue'>One : Is there a Relationship Between the Response and Predictors? </font>\n",
        "\n",
        "In the multiple regression coefficients setting with $p$ predictors, we need to ask whether all of the regression coefficients are zero. \n",
        "ie. whether $β_1 = β_2 =\\ldots = β_p = 0$.\n",
        "\n",
        "**Null Hypothesis**\n",
        "\n",
        "\\begin{align*}\n",
        "H_0 = β_1 = β_2 = \\ldots = β_p = 0 \n",
        "\\end{align*}\n",
        "\n",
        "**Alternative Hypothesis**\n",
        "\n",
        "\\begin{align*}\n",
        "H_a = \\text{ at least one } β_j \\text{ is non-zero}\n",
        "\\end{align*}\n",
        "\n",
        "This hypothesis is performed by computing the $F$- Statistic\n",
        "\n",
        "\\begin{align*}\n",
        "F = \\frac{(TSS - RSS)/p}{RSS/(n-p-1)}\n",
        "\\end{align*}\n",
        "\n",
        "We expect $F$ statistic value greater than $1$."
      ],
      "metadata": {
        "id": "fnUQsb5greZr"
      }
    },
    {
      "cell_type": "code",
      "source": [
        "x = df.iloc[:,0:-1]\n",
        "y = df.iloc[:,-1]\n",
        "y_pred = np.dot(X,theta)\n",
        "TSS = np.sum(np.square(y-np.mean(y)))\n",
        "RSS = np.sum(np.square(y-y_pred))\n",
        "p = 3\n",
        "n = len(x)\n",
        "F = ((TSS- RSS)/p) / (RSS/(n-p-1))\n",
        "print(\"F-Statistic:\",F)"
      ],
      "metadata": {
        "colab": {
          "base_uri": "https://localhost:8080/"
        },
        "id": "gfW8GLPRzbOy",
        "outputId": "55fe5e59-6db4-4889-8a38-956106ce0b0e"
      },
      "execution_count": null,
      "outputs": [
        {
          "output_type": "stream",
          "name": "stdout",
          "text": [
            "F-Statistic: 568.4493936423218\n"
          ]
        }
      ]
    },
    {
      "cell_type": "markdown",
      "source": [
        "Since, F-statistic for the advertising data, is far greater than 1,it provides compelling evidence against the null hypothesis $H_0$.\n",
        "\n",
        "In other words, the large $F$-Statistic suggests that at least one of the advertising media must be related to sales.\n",
        "\n",
        "\n",
        "Given the individual p-values for each variable, why do we need to look at the overall $F$-statistic? \n",
        "\n",
        "For instance, consider an example in which $p=100$ and $H_0: β_1 =β_2 =\\ldots =β_p = 0$ is true, so no variable is truly associated with the response.\n",
        "\n",
        "In this situation, about $5\\%$ of the $p$-values associated with each variable will be below $0.05$ by chance. \n",
        "\n",
        "In other words, we expect to see approximately five small $p$-values even in the absence of any true association between the predictors and the response.\n",
        "\n",
        "In fact, it is likely we observed at least one $p$-value below $0.05$ by chance!\n",
        "\n",
        "Hence, if we use the individual t-statistics and associated $p$-value  in order to decide whether or not there is any association between the variables and the response, there is very high chane that we will incorrectly conclude that there is a relationship.\n",
        "\n",
        "However, the $F$-statistic does not suffer from this problem because it adjusts for the number of predictors. Hence, if $H_0$ is true, there is only $5\\%$ chance that the $F$-statistic will result in a $p$-value below $0.05$, regardless of the number of predictors or the number of observations."
      ],
      "metadata": {
        "id": "zZNqXbjB0pv1"
      }
    },
    {
      "cell_type": "markdown",
      "source": [
        "# Answering Questions to Advertising Data\n"
      ],
      "metadata": {
        "id": "gTkkDPtC6ync"
      }
    },
    {
      "cell_type": "markdown",
      "source": [
        "\n",
        "We now briefly return to the seven questions about the Advertising data that we set out to answer at the beginning of the chapter. \n",
        "\n",
        "1. **Is there a relationship between advertising budget and sales?**\n",
        " - This question can be answered by fitting a multiple regression model of sales onto TV,Radio and newspaper . and testing hypothesis $H_0 : β_{TV} = β_{radio} =β_{newspaper} = 0$\n",
        " - We can use the F-statistic to determine whether we should reject the null hypothesis.\n",
        " - In this case, we found the p-value corresponding to the F-statistic is very low, indicating clear evidence of a relationship between advertising and sales. \n",
        "2. **How strong is the relationship between advertising budget and sales?**\n",
        "  - RSE estimates the standard deviation of the response from the population regression line. \n",
        "  - For the advertising data, the RSE s 1.69 units while the mean value for the response if 14.022, indicating a percentage error of roughly $12\\%$ .\n",
        "  - Second, the $R^2$ statistic records the percentage of variability in the response that is explained by the predictors. The predictors explain almost $90\\%$ of the variance in sales.\n",
        "3. **Which media are associated with sales?**\n",
        "  - We examine the p-values associated with each predictor's t-statistic. \n",
        "  - In multiple linear regression, the p-values for TV and radio are low,but the p-value for newspaper is not. This suggests that only TV and radio are related to sales.\n",
        "4. **How large is the association between each medium and sales.**\n",
        "  - We studied, that standard error of $\\hat{β}_j$ can be used to construct confidence intervals for $β_j$.\n",
        "  - The confidence intervals are as follows: \n",
        "    - $(0.043,0.049)$ for TV\n",
        "    - $(0.172,0.206)$ for radio\n",
        "    - $(-0.013,0.011)$ for newspaper\n",
        "  The confidence intervals for TV and radio are narrow and far from zero, providing evidence that these media are related to sales. \n",
        "  - But the interval for newpaper includes zero, indicating that the variable is not statistically significant given the values of TV and radio.\n",
        "5. **How accurately can we predict future sales?**\n",
        "   - \n",
        "6. Is the relationship linear.\n",
        "7. Is there synergy/\"interaction effect\" among the advertising media?"
      ],
      "metadata": {
        "id": "YIb6mtZh7Knz"
      }
    }
  ]
}