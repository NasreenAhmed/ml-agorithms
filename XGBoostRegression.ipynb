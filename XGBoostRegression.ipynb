{
  "nbformat": 4,
  "nbformat_minor": 0,
  "metadata": {
    "colab": {
      "name": "XGBoostRegression.ipynb",
      "provenance": [],
      "collapsed_sections": []
    },
    "kernelspec": {
      "name": "python3",
      "display_name": "Python 3"
    },
    "language_info": {
      "name": "python"
    }
  },
  "cells": [
    {
      "cell_type": "code",
      "execution_count": null,
      "metadata": {
        "id": "jdXb1NVVYWWz"
      },
      "outputs": [],
      "source": [
        "import numpy as np\n",
        "import pandas as pd\n",
        "from sklearn.datasets import fetch_california_housing\n",
        "housing = fetch_california_housing()"
      ]
    },
    {
      "cell_type": "code",
      "source": [
        "df = pd.DataFrame(housing['data'], columns=housing['feature_names'])\n",
        "df['target'] = housing['target']\n",
        "#The target variable is the median house value for California districts,expressed in hundreds of thousands of dollars ($100,000)."
      ],
      "metadata": {
        "id": "hcBMabDlcSwv"
      },
      "execution_count": null,
      "outputs": []
    },
    {
      "cell_type": "code",
      "source": [
        "df.shape"
      ],
      "metadata": {
        "colab": {
          "base_uri": "https://localhost:8080/"
        },
        "id": "uDTJv6tbd9b_",
        "outputId": "7cbbcd0f-737c-4193-fd61-51033e999f2f"
      },
      "execution_count": null,
      "outputs": [
        {
          "output_type": "execute_result",
          "data": {
            "text/plain": [
              "(20640, 9)"
            ]
          },
          "metadata": {},
          "execution_count": 129
        }
      ]
    },
    {
      "cell_type": "code",
      "source": [
        "df"
      ],
      "metadata": {
        "colab": {
          "base_uri": "https://localhost:8080/",
          "height": 423
        },
        "id": "mnVJUhOdT4fZ",
        "outputId": "45d736d1-c918-4d0a-f9af-47a704924508"
      },
      "execution_count": null,
      "outputs": [
        {
          "output_type": "execute_result",
          "data": {
            "text/plain": [
              "       MedInc  HouseAge  AveRooms  AveBedrms  Population  AveOccup  Latitude  \\\n",
              "0      8.3252      41.0  6.984127   1.023810       322.0  2.555556     37.88   \n",
              "1      8.3014      21.0  6.238137   0.971880      2401.0  2.109842     37.86   \n",
              "2      7.2574      52.0  8.288136   1.073446       496.0  2.802260     37.85   \n",
              "3      5.6431      52.0  5.817352   1.073059       558.0  2.547945     37.85   \n",
              "4      3.8462      52.0  6.281853   1.081081       565.0  2.181467     37.85   \n",
              "...       ...       ...       ...        ...         ...       ...       ...   \n",
              "20635  1.5603      25.0  5.045455   1.133333       845.0  2.560606     39.48   \n",
              "20636  2.5568      18.0  6.114035   1.315789       356.0  3.122807     39.49   \n",
              "20637  1.7000      17.0  5.205543   1.120092      1007.0  2.325635     39.43   \n",
              "20638  1.8672      18.0  5.329513   1.171920       741.0  2.123209     39.43   \n",
              "20639  2.3886      16.0  5.254717   1.162264      1387.0  2.616981     39.37   \n",
              "\n",
              "       Longitude  target  \n",
              "0        -122.23   4.526  \n",
              "1        -122.22   3.585  \n",
              "2        -122.24   3.521  \n",
              "3        -122.25   3.413  \n",
              "4        -122.25   3.422  \n",
              "...          ...     ...  \n",
              "20635    -121.09   0.781  \n",
              "20636    -121.21   0.771  \n",
              "20637    -121.22   0.923  \n",
              "20638    -121.32   0.847  \n",
              "20639    -121.24   0.894  \n",
              "\n",
              "[20640 rows x 9 columns]"
            ],
            "text/html": [
              "\n",
              "  <div id=\"df-66d4e607-07bb-4122-9b6e-e38b7174ae2d\">\n",
              "    <div class=\"colab-df-container\">\n",
              "      <div>\n",
              "<style scoped>\n",
              "    .dataframe tbody tr th:only-of-type {\n",
              "        vertical-align: middle;\n",
              "    }\n",
              "\n",
              "    .dataframe tbody tr th {\n",
              "        vertical-align: top;\n",
              "    }\n",
              "\n",
              "    .dataframe thead th {\n",
              "        text-align: right;\n",
              "    }\n",
              "</style>\n",
              "<table border=\"1\" class=\"dataframe\">\n",
              "  <thead>\n",
              "    <tr style=\"text-align: right;\">\n",
              "      <th></th>\n",
              "      <th>MedInc</th>\n",
              "      <th>HouseAge</th>\n",
              "      <th>AveRooms</th>\n",
              "      <th>AveBedrms</th>\n",
              "      <th>Population</th>\n",
              "      <th>AveOccup</th>\n",
              "      <th>Latitude</th>\n",
              "      <th>Longitude</th>\n",
              "      <th>target</th>\n",
              "    </tr>\n",
              "  </thead>\n",
              "  <tbody>\n",
              "    <tr>\n",
              "      <th>0</th>\n",
              "      <td>8.3252</td>\n",
              "      <td>41.0</td>\n",
              "      <td>6.984127</td>\n",
              "      <td>1.023810</td>\n",
              "      <td>322.0</td>\n",
              "      <td>2.555556</td>\n",
              "      <td>37.88</td>\n",
              "      <td>-122.23</td>\n",
              "      <td>4.526</td>\n",
              "    </tr>\n",
              "    <tr>\n",
              "      <th>1</th>\n",
              "      <td>8.3014</td>\n",
              "      <td>21.0</td>\n",
              "      <td>6.238137</td>\n",
              "      <td>0.971880</td>\n",
              "      <td>2401.0</td>\n",
              "      <td>2.109842</td>\n",
              "      <td>37.86</td>\n",
              "      <td>-122.22</td>\n",
              "      <td>3.585</td>\n",
              "    </tr>\n",
              "    <tr>\n",
              "      <th>2</th>\n",
              "      <td>7.2574</td>\n",
              "      <td>52.0</td>\n",
              "      <td>8.288136</td>\n",
              "      <td>1.073446</td>\n",
              "      <td>496.0</td>\n",
              "      <td>2.802260</td>\n",
              "      <td>37.85</td>\n",
              "      <td>-122.24</td>\n",
              "      <td>3.521</td>\n",
              "    </tr>\n",
              "    <tr>\n",
              "      <th>3</th>\n",
              "      <td>5.6431</td>\n",
              "      <td>52.0</td>\n",
              "      <td>5.817352</td>\n",
              "      <td>1.073059</td>\n",
              "      <td>558.0</td>\n",
              "      <td>2.547945</td>\n",
              "      <td>37.85</td>\n",
              "      <td>-122.25</td>\n",
              "      <td>3.413</td>\n",
              "    </tr>\n",
              "    <tr>\n",
              "      <th>4</th>\n",
              "      <td>3.8462</td>\n",
              "      <td>52.0</td>\n",
              "      <td>6.281853</td>\n",
              "      <td>1.081081</td>\n",
              "      <td>565.0</td>\n",
              "      <td>2.181467</td>\n",
              "      <td>37.85</td>\n",
              "      <td>-122.25</td>\n",
              "      <td>3.422</td>\n",
              "    </tr>\n",
              "    <tr>\n",
              "      <th>...</th>\n",
              "      <td>...</td>\n",
              "      <td>...</td>\n",
              "      <td>...</td>\n",
              "      <td>...</td>\n",
              "      <td>...</td>\n",
              "      <td>...</td>\n",
              "      <td>...</td>\n",
              "      <td>...</td>\n",
              "      <td>...</td>\n",
              "    </tr>\n",
              "    <tr>\n",
              "      <th>20635</th>\n",
              "      <td>1.5603</td>\n",
              "      <td>25.0</td>\n",
              "      <td>5.045455</td>\n",
              "      <td>1.133333</td>\n",
              "      <td>845.0</td>\n",
              "      <td>2.560606</td>\n",
              "      <td>39.48</td>\n",
              "      <td>-121.09</td>\n",
              "      <td>0.781</td>\n",
              "    </tr>\n",
              "    <tr>\n",
              "      <th>20636</th>\n",
              "      <td>2.5568</td>\n",
              "      <td>18.0</td>\n",
              "      <td>6.114035</td>\n",
              "      <td>1.315789</td>\n",
              "      <td>356.0</td>\n",
              "      <td>3.122807</td>\n",
              "      <td>39.49</td>\n",
              "      <td>-121.21</td>\n",
              "      <td>0.771</td>\n",
              "    </tr>\n",
              "    <tr>\n",
              "      <th>20637</th>\n",
              "      <td>1.7000</td>\n",
              "      <td>17.0</td>\n",
              "      <td>5.205543</td>\n",
              "      <td>1.120092</td>\n",
              "      <td>1007.0</td>\n",
              "      <td>2.325635</td>\n",
              "      <td>39.43</td>\n",
              "      <td>-121.22</td>\n",
              "      <td>0.923</td>\n",
              "    </tr>\n",
              "    <tr>\n",
              "      <th>20638</th>\n",
              "      <td>1.8672</td>\n",
              "      <td>18.0</td>\n",
              "      <td>5.329513</td>\n",
              "      <td>1.171920</td>\n",
              "      <td>741.0</td>\n",
              "      <td>2.123209</td>\n",
              "      <td>39.43</td>\n",
              "      <td>-121.32</td>\n",
              "      <td>0.847</td>\n",
              "    </tr>\n",
              "    <tr>\n",
              "      <th>20639</th>\n",
              "      <td>2.3886</td>\n",
              "      <td>16.0</td>\n",
              "      <td>5.254717</td>\n",
              "      <td>1.162264</td>\n",
              "      <td>1387.0</td>\n",
              "      <td>2.616981</td>\n",
              "      <td>39.37</td>\n",
              "      <td>-121.24</td>\n",
              "      <td>0.894</td>\n",
              "    </tr>\n",
              "  </tbody>\n",
              "</table>\n",
              "<p>20640 rows × 9 columns</p>\n",
              "</div>\n",
              "      <button class=\"colab-df-convert\" onclick=\"convertToInteractive('df-66d4e607-07bb-4122-9b6e-e38b7174ae2d')\"\n",
              "              title=\"Convert this dataframe to an interactive table.\"\n",
              "              style=\"display:none;\">\n",
              "        \n",
              "  <svg xmlns=\"http://www.w3.org/2000/svg\" height=\"24px\"viewBox=\"0 0 24 24\"\n",
              "       width=\"24px\">\n",
              "    <path d=\"M0 0h24v24H0V0z\" fill=\"none\"/>\n",
              "    <path d=\"M18.56 5.44l.94 2.06.94-2.06 2.06-.94-2.06-.94-.94-2.06-.94 2.06-2.06.94zm-11 1L8.5 8.5l.94-2.06 2.06-.94-2.06-.94L8.5 2.5l-.94 2.06-2.06.94zm10 10l.94 2.06.94-2.06 2.06-.94-2.06-.94-.94-2.06-.94 2.06-2.06.94z\"/><path d=\"M17.41 7.96l-1.37-1.37c-.4-.4-.92-.59-1.43-.59-.52 0-1.04.2-1.43.59L10.3 9.45l-7.72 7.72c-.78.78-.78 2.05 0 2.83L4 21.41c.39.39.9.59 1.41.59.51 0 1.02-.2 1.41-.59l7.78-7.78 2.81-2.81c.8-.78.8-2.07 0-2.86zM5.41 20L4 18.59l7.72-7.72 1.47 1.35L5.41 20z\"/>\n",
              "  </svg>\n",
              "      </button>\n",
              "      \n",
              "  <style>\n",
              "    .colab-df-container {\n",
              "      display:flex;\n",
              "      flex-wrap:wrap;\n",
              "      gap: 12px;\n",
              "    }\n",
              "\n",
              "    .colab-df-convert {\n",
              "      background-color: #E8F0FE;\n",
              "      border: none;\n",
              "      border-radius: 50%;\n",
              "      cursor: pointer;\n",
              "      display: none;\n",
              "      fill: #1967D2;\n",
              "      height: 32px;\n",
              "      padding: 0 0 0 0;\n",
              "      width: 32px;\n",
              "    }\n",
              "\n",
              "    .colab-df-convert:hover {\n",
              "      background-color: #E2EBFA;\n",
              "      box-shadow: 0px 1px 2px rgba(60, 64, 67, 0.3), 0px 1px 3px 1px rgba(60, 64, 67, 0.15);\n",
              "      fill: #174EA6;\n",
              "    }\n",
              "\n",
              "    [theme=dark] .colab-df-convert {\n",
              "      background-color: #3B4455;\n",
              "      fill: #D2E3FC;\n",
              "    }\n",
              "\n",
              "    [theme=dark] .colab-df-convert:hover {\n",
              "      background-color: #434B5C;\n",
              "      box-shadow: 0px 1px 3px 1px rgba(0, 0, 0, 0.15);\n",
              "      filter: drop-shadow(0px 1px 2px rgba(0, 0, 0, 0.3));\n",
              "      fill: #FFFFFF;\n",
              "    }\n",
              "  </style>\n",
              "\n",
              "      <script>\n",
              "        const buttonEl =\n",
              "          document.querySelector('#df-66d4e607-07bb-4122-9b6e-e38b7174ae2d button.colab-df-convert');\n",
              "        buttonEl.style.display =\n",
              "          google.colab.kernel.accessAllowed ? 'block' : 'none';\n",
              "\n",
              "        async function convertToInteractive(key) {\n",
              "          const element = document.querySelector('#df-66d4e607-07bb-4122-9b6e-e38b7174ae2d');\n",
              "          const dataTable =\n",
              "            await google.colab.kernel.invokeFunction('convertToInteractive',\n",
              "                                                     [key], {});\n",
              "          if (!dataTable) return;\n",
              "\n",
              "          const docLinkHtml = 'Like what you see? Visit the ' +\n",
              "            '<a target=\"_blank\" href=https://colab.research.google.com/notebooks/data_table.ipynb>data table notebook</a>'\n",
              "            + ' to learn more about interactive tables.';\n",
              "          element.innerHTML = '';\n",
              "          dataTable['output_type'] = 'display_data';\n",
              "          await google.colab.output.renderOutput(dataTable, element);\n",
              "          const docLink = document.createElement('div');\n",
              "          docLink.innerHTML = docLinkHtml;\n",
              "          element.appendChild(docLink);\n",
              "        }\n",
              "      </script>\n",
              "    </div>\n",
              "  </div>\n",
              "  "
            ]
          },
          "metadata": {},
          "execution_count": 57
        }
      ]
    },
    {
      "cell_type": "code",
      "source": [
        "def data_transform(df):\n",
        "\n",
        "  # Splitting data into training and testing data\n",
        "  df = df.sample(frac=1).reset_index(drop=True)\n",
        "  no_of_train_rows = int(np.floor(0.80*df.shape[0]))\n",
        "  train_df = df.iloc[0:no_of_train_rows,:]\n",
        "  train_df = df.sort_values(\"target\")\n",
        "  test_df = df.iloc[no_of_train_rows:,:]\n",
        "\n",
        "  l = df.shape[1]\n",
        "  train_x = train_df.iloc[:,0:l-2]\n",
        "  train_y = train_df.iloc[:,-1]\n",
        "  test_x = test_df.iloc[:,0:l-2]\n",
        "  test_y = test_df.iloc[:,-1]\n",
        "  train_x = np.array(train_x.iloc[0:5000,:])\n",
        "  train_y = np.array(train_y.iloc[0:5000])\n",
        "\n",
        "\n",
        "  return train_x,train_y,test_x,test_y"
      ],
      "metadata": {
        "id": "J6ivjsGRcpoH"
      },
      "execution_count": null,
      "outputs": []
    },
    {
      "cell_type": "code",
      "source": [
        "train_x,train_y,test_x,test_y = data_transform(df)"
      ],
      "metadata": {
        "id": "ylU-dkTCdEPP"
      },
      "execution_count": null,
      "outputs": []
    },
    {
      "cell_type": "code",
      "source": [
        "train_x[0:500]"
      ],
      "metadata": {
        "colab": {
          "base_uri": "https://localhost:8080/"
        },
        "id": "B6vgtqtFTzdx",
        "outputId": "ebe97e92-ca89-4ff2-bbd7-4450a5143d23"
      },
      "execution_count": null,
      "outputs": [
        {
          "output_type": "execute_result",
          "data": {
            "text/plain": [
              "array([[   2.1       ,   19.        ,    3.77439024, ...,  490.        ,\n",
              "           2.98780488,   36.4       ],\n",
              "       [   4.1932    ,   52.        ,    3.56888889, ...,  628.        ,\n",
              "           2.79111111,   34.24      ],\n",
              "       [   1.6607    ,   16.        ,    6.71052632, ...,   85.        ,\n",
              "           2.23684211,   39.71      ],\n",
              "       ...,\n",
              "       [   2.0577    ,   12.        ,    6.37272727, ...,  434.        ,\n",
              "           3.94545455,   33.79      ],\n",
              "       [   1.516     ,   28.        ,    4.40327869, ..., 1331.        ,\n",
              "           4.36393443,   36.59      ],\n",
              "       [   2.101     ,   51.        ,    5.31111111, ...,  662.        ,\n",
              "           3.67777778,   36.73      ]])"
            ]
          },
          "metadata": {},
          "execution_count": 60
        }
      ]
    },
    {
      "cell_type": "code",
      "source": [
        "import warnings\n",
        "warnings.filterwarnings(\"ignore\")"
      ],
      "metadata": {
        "id": "VHe6eEhzZo3y"
      },
      "execution_count": null,
      "outputs": []
    },
    {
      "cell_type": "code",
      "source": [
        "#################################################################\n",
        "# User defined storage class :To store information as we process \n",
        "# in building our XGBoostTree\n",
        "# 1. Stores the data corresponding to the particular node class\n",
        "# 2. Stores the feature index giving the best split for that iteration\n",
        "# 3. Stores the threshold or can also be called the BestSplitVal \n",
        "#    corresponding to the index\n",
        "# 4. Node_val corresponds to the leaf value. Defaulted to 10000\n",
        "# 5. Node.left & Node.right corresponds to the location of \n",
        "#    future nodes down the XGBoost Tree Structure, can be \n",
        "#    thought of linkedList from basic data structures.\n",
        "#################################################################\n",
        "class Node:\n",
        "\n",
        "  def __init__(self):\n",
        "    self.data = None\n",
        "    self.feature_index = None\n",
        "    self.threshold = None \n",
        "    self.node_val = 10000 #Default Value\n",
        "    self.left = None\n",
        "    self.right = None\n"
      ],
      "metadata": {
        "id": "RVrf_sxl4XxH"
      },
      "execution_count": null,
      "outputs": []
    },
    {
      "cell_type": "code",
      "source": [
        "#######################################################################\n",
        "# Similarity score is calcuated to understand the purtiy of the node.\n",
        "# Higher the similarity score, purer is the done. \n",
        "#######################################################################\n",
        "\n",
        "def similarityScore(x,y,residuals,lambda1):\n",
        "\n",
        "  similarityScore = (np.sum(residuals))**2/(len(y)+lambda1)\n",
        "\n",
        "  #Dividing the data into left and right branch by taking the average of all the\n",
        "  # adjacent training data\n",
        "\n",
        "  #######################################################################\n",
        "  # Initializing all the lists and variables needed in executing the \n",
        "  # function\n",
        "  #######################################################################\n",
        "\n",
        "  gainLst = []\n",
        "  splitVallst = []\n",
        "  gainThreshold = 0\n",
        "  SplitValThreshold = 0\n",
        "  Index = 0\n",
        "  featureIndex = 0\n",
        "\n",
        "  #######################################################################\n",
        "  # Outer forLoop corresponding to the number of features in the dataset.\n",
        "  #######################################################################\n",
        "\n",
        "  for j in range(0,x.shape[1]):\n",
        "    gainThreshold = 0\n",
        "    #######################################################################\n",
        "    # Inner forLoop across all data points, calculating the average of \n",
        "    # adjacent data points, and calculating the best fit\n",
        "    # In case of XGBoost, best fit is the one, giving the maximum gain.\n",
        "    #######################################################################\n",
        "    for i in range(1,x.shape[0]-1):\n",
        "      \n",
        "      splitVal = (x[i-1,j] + x[i,j])/2\n",
        "\n",
        "      # create two halfs based on the split val \n",
        "\n",
        "      left_df = x[x[:,j]<= splitVal]\n",
        "      right_df = x[x[:,j] > splitVal]\n",
        "\n",
        "      left_residuals = residuals[x[:,j]<= splitVal]\n",
        "      right_residuals = residuals[x[:,j] > splitVal]\n",
        "\n",
        "      # now calculate the Similarity Score for both Halves\n",
        "\n",
        "      similarityLeftScore = (np.sum(left_residuals))**2/(len(left_residuals) + lambda1)\n",
        "      similarityRightScore = (np.sum(right_residuals))**2/(len(right_residuals) + lambda1)\n",
        "\n",
        "      # Now we Calculate the Branch Gain \n",
        "      #######################################################################\n",
        "      # Inner forLoop across all data points, calculating the average of \n",
        "      # adjacent data points, and calculating the best fit\n",
        "      # In case of XGBoost, best fit is the one, giving the maximum gain.\n",
        "      #######################################################################\n",
        "      gain = similarityLeftScore + similarityRightScore - similarityScore\n",
        "\n",
        "      if gain > gainThreshold:\n",
        "        gainThreshold = gain\n",
        "        SplitValThreshold = splitVal\n",
        "        Index = i\n",
        "\n",
        "    gainLst.append(gainThreshold)\n",
        "    splitVallst.append(SplitValThreshold)\n",
        "\n",
        "  return gainLst,splitVallst"
      ],
      "metadata": {
        "id": "a-2AESbZyZEJ"
      },
      "execution_count": null,
      "outputs": []
    },
    {
      "cell_type": "code",
      "source": [
        "# Recursive Building the XGBoostTree\n",
        "\n",
        "def buildTree(x,y,node,residuals,maxDepth,lambda1):\n",
        "\n",
        "  gainlst,splitvalLst = similarityScore(x,y,residuals,lambda1)\n",
        "\n",
        "  index = np.argmax(gainlst)\n",
        "  splitVal = splitvalLst[index]\n",
        "  gain = gainlst[index]\n",
        "\n",
        "  # Base Case \n",
        "  if len(residuals) == 1:\n",
        "     node.node_val = residuals/(len(residuals)+lambda1)\n",
        "     return node\n",
        "\n",
        "  if gain <0 or maxDepth == 0:\n",
        "    # Calcate the node value of the tree and return\n",
        "    node.node_val = np.sum(residuals)/(len(residuals) + lambda1)\n",
        "    return node\n",
        "\n",
        "\n",
        "  node.feature_index = index\n",
        "  node.threshold = splitVal\n",
        "  \n",
        "  # Splitting the data\n",
        "\n",
        "  train_left_x = x[x[:,index]<= splitVal]\n",
        "  train_right_x = x[x[:,index] > splitVal]\n",
        "\n",
        "  \n",
        "  train_left_y = y[x[:,index]<= splitVal]\n",
        "  train_right_y = y[x[:,index] > splitVal]\n",
        "  \n",
        "  residual_left = residuals[x[:,index]<= splitVal]\n",
        "  residual_right = residuals[x[:,index] > splitVal]\n",
        "\n",
        "  leftNode = Node()\n",
        "  rightNode = Node()\n",
        "\n",
        "  maxDepth = maxDepth - 1\n",
        "\n",
        "  node.left = buildTree(train_left_x,train_left_y,leftNode,residual_left,maxDepth,lambda1)\n",
        "  node.right = buildTree(train_right_x,train_right_y,rightNode,residual_right,maxDepth,lambda1)\n",
        "\n",
        "  return node"
      ],
      "metadata": {
        "id": "QxIXr1bL-oPs"
      },
      "execution_count": null,
      "outputs": []
    },
    {
      "cell_type": "code",
      "source": [
        "##########################################################\n",
        "#Predict \n",
        "#Input : The test dataset, root of the tree, list of columns\n",
        "#Output : Returns the predicted value.\n",
        "##########################################################\n",
        "def predict(x,treenode):\n",
        "\n",
        "  #Base Case\n",
        "  if treenode.node_val != 10000:\n",
        "    return treenode.node_val\n",
        "\n",
        "  head = treenode\n",
        "  index = head.feature_index\n",
        "  threshold = head.threshold\n",
        "\n",
        "  value = x[index]\n",
        " \n",
        "  if value <= threshold:\n",
        "     pred = predict(x,head.left)\n",
        "  else:\n",
        "    pred = predict(x,head.right)\n",
        "  \n",
        "  return pred  \n",
        "\n",
        "def predictNewValues(x,treenode):\n",
        "  Leafresiduals = []\n",
        "  for i in range(0,len(x)):\n",
        "    arrx = x[i,:]\n",
        "    res = predict(arrx,treeNode)\n",
        "    Leafresiduals.append(res)\n",
        "\n",
        "  return Leafresiduals\n"
      ],
      "metadata": {
        "id": "Uby2Dn4ZPljN"
      },
      "execution_count": null,
      "outputs": []
    },
    {
      "cell_type": "code",
      "source": [
        "#######################################################################\n",
        "# XGBoost Algorithm main function.\n",
        "#######################################################################\n",
        "def XGBoost(x,y,maxDepth,NoFTrees,eta):\n",
        "\n",
        "  trees = []\n",
        "  node = Node()\n",
        "  # Initial Prediction\n",
        "  #######################################################################\n",
        "  # Very Initial Prediction at level-0\n",
        "  # It is mostly mean of the label training dataset.\n",
        "  #######################################################################\n",
        "  pred = np.mean(y)\n",
        "\n",
        "  # Calculate the residuals\n",
        "  residuals = y - pred\n",
        "  newPred=np.repeat(pred,len(y))\n",
        "  \n",
        "  for k in range(NoFTrees):\n",
        "    print(\"Tree Number\",k)\n",
        "    node = Node()\n",
        "    #######################################################################\n",
        "    # building XGBoost tree, trying to predict the residuals using the \n",
        "    # feature of the training dataset.\n",
        "    #######################################################################\n",
        "    treeNode = buildTree(x,y,node,residuals,maxDepth,lambda1=1)\n",
        "    trees.append(treeNode)\n",
        "\n",
        "    # get new residuals\n",
        "    res = predictNewValues(x,trees[k])\n",
        "    res = np.array(res).ravel()\n",
        "    g = eta * res\n",
        "\n",
        "    #######################################################################\n",
        "    # Calculating new prediction\n",
        "    # Newpred = Previous predictions + learningrate * residuals\n",
        "    #######################################################################\n",
        "  \n",
        "    newPred  = newPred + g\n",
        "\n",
        "    residuals = y - newPred\n",
        "\n",
        "  return pred, trees"
      ],
      "metadata": {
        "id": "TFeCmVGDOvFm"
      },
      "execution_count": null,
      "outputs": []
    },
    {
      "cell_type": "code",
      "source": [
        "pred, Alltrees = XGBoost(train_x,train_y,6,20,0.3)"
      ],
      "metadata": {
        "colab": {
          "base_uri": "https://localhost:8080/"
        },
        "id": "wynTjX33SAE6",
        "outputId": "5ac45986-8fa9-4166-9c43-1147bfc3b0b0"
      },
      "execution_count": null,
      "outputs": [
        {
          "output_type": "stream",
          "name": "stdout",
          "text": [
            "Tree Number 0\n",
            "Tree Number 1\n",
            "Tree Number 2\n",
            "Tree Number 3\n",
            "Tree Number 4\n",
            "Tree Number 5\n",
            "Tree Number 6\n",
            "Tree Number 7\n",
            "Tree Number 8\n",
            "Tree Number 9\n",
            "Tree Number 10\n",
            "Tree Number 11\n",
            "Tree Number 12\n",
            "Tree Number 13\n",
            "Tree Number 14\n",
            "Tree Number 15\n",
            "Tree Number 16\n",
            "Tree Number 17\n",
            "Tree Number 18\n",
            "Tree Number 19\n"
          ]
        }
      ]
    },
    {
      "cell_type": "code",
      "source": [
        "### Prediction \n",
        "x = np.array(test_x.iloc[0:500,:])\n",
        "FirstPred=np.repeat(pred,len(x))\n",
        "prediction = FirstPred\n",
        "# get new residuals\n",
        "for i in range(0,len(Alltrees)):\n",
        "  res = predictNewValues(x,Alltrees[i])\n",
        "  res = np.array(res).ravel()\n",
        "  prediction = prediction + 0.3 * res"
      ],
      "metadata": {
        "id": "Y90KjBUsYcmw"
      },
      "execution_count": null,
      "outputs": []
    },
    {
      "cell_type": "code",
      "source": [
        "# Accuracy\n",
        "MeanSquareError = np.sqrt(1/len(test_y[0:500])*np.sum((test_y[0:500] - prediction)**2))\n",
        "\n",
        "print(MeanSquareError)\n"
      ],
      "metadata": {
        "colab": {
          "base_uri": "https://localhost:8080/"
        },
        "id": "sE6b6cGQZdSS",
        "outputId": "005cf97f-e6a4-457a-804e-d35518ccca3c"
      },
      "execution_count": null,
      "outputs": [
        {
          "output_type": "stream",
          "name": "stdout",
          "text": [
            "1.575443150283064\n"
          ]
        }
      ]
    },
    {
      "cell_type": "markdown",
      "source": [
        "# SKLEARN Library"
      ],
      "metadata": {
        "id": "4A26mCWHsQEA"
      }
    },
    {
      "cell_type": "code",
      "source": [
        "def data_transform(df):\n",
        "\n",
        "  # Splitting data into training and testing data\n",
        "  df = df.sample(frac=1).reset_index(drop=True)\n",
        "  no_of_train_rows = int(np.floor(0.80*df.shape[0]))\n",
        "  train_df = df.iloc[0:no_of_train_rows,:]\n",
        "  train_df = df.sort_values(\"target\")\n",
        "  test_df = df.iloc[no_of_train_rows:,:]\n",
        "\n",
        "  l = df.shape[1]\n",
        "  train_x = train_df.iloc[:,0:l-2]\n",
        "  train_y = train_df.iloc[:,-1]\n",
        "  test_x = test_df.iloc[:,0:l-2]\n",
        "  test_y = test_df.iloc[:,-1]\n",
        "\n",
        "\n",
        "\n",
        "  return train_x,train_y,test_x,test_y"
      ],
      "metadata": {
        "id": "JE5ylF9Rc-MT"
      },
      "execution_count": null,
      "outputs": []
    },
    {
      "cell_type": "code",
      "source": [
        "train_x,train_y,test_x,test_y = data_transform(df)"
      ],
      "metadata": {
        "id": "l8w7kHk8dL56"
      },
      "execution_count": null,
      "outputs": []
    },
    {
      "cell_type": "code",
      "source": [
        "import xgboost as xgb\n",
        "from sklearn.metrics import mean_squared_error\n",
        "import pandas as pd\n",
        "import numpy as np\n",
        "\n",
        "#data_dmatrix = xgb.DMatrix(data=train_x,label=y)\n",
        "xg_reg = xgb.XGBRegressor(objective ='reg:squarederror', colsample_bytree = 0.3, learning_rate = 0.1,\n",
        "                max_depth = 5, alpha = 10, n_estimators = 10)\n",
        "\n",
        "xg_reg.fit(train_x,train_y)\n",
        "\n",
        "preds = xg_reg.predict(test_x)\n",
        "\n",
        "rmse = np.sqrt(mean_squared_error(test_y, preds))\n",
        "print(\"RMSE: %f\" % (rmse))"
      ],
      "metadata": {
        "colab": {
          "base_uri": "https://localhost:8080/"
        },
        "id": "fGmlgSHgcY4P",
        "outputId": "6dea8d16-7b44-4e9a-a119-c377477ecf4f"
      },
      "execution_count": null,
      "outputs": [
        {
          "output_type": "stream",
          "name": "stdout",
          "text": [
            "RMSE: 1.038412\n"
          ]
        }
      ]
    }
  ]
}