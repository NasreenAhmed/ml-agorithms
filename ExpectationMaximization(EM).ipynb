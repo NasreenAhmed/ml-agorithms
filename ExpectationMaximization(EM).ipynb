{
  "nbformat": 4,
  "nbformat_minor": 0,
  "metadata": {
    "colab": {
      "name": "ExpectationMaximization(EM).ipynb",
      "provenance": [],
      "collapsed_sections": []
    },
    "kernelspec": {
      "name": "python3",
      "display_name": "Python 3"
    },
    "language_info": {
      "name": "python"
    }
  },
  "cells": [
    {
      "cell_type": "markdown",
      "source": [
        "The EM algorithm is a popular tool for simplifying difficult maximum likelihood problems. We first describe it in the context of a simple mixture model\n",
        "\n",
        "<font color='blue'>**Two-Component Mixture Model**</font>\n",
        "\n",
        "We are given a small toy dataset, as plotted below "
      ],
      "metadata": {
        "id": "Rb908BqgeUjp"
      }
    },
    {
      "cell_type": "code",
      "source": [
        "import numpy as np\n",
        "import matplotlib.pyplot as plt\n",
        "import seaborn as sns\n",
        "import random\n",
        "import math\n",
        "\n",
        "x = np.array([-0.39,0.12,0.94,1.67,1.76,2.44,3.72,4.28,4.92,5.53,0.06,0.48,1.01\n",
        "              ,1.68,1.80,3.25,4.12,4.60,5.28,6.22])\n",
        "#x = np.sort(x)\n",
        "sns.histplot(x,stat=\"probability\",bins=15)\n",
        "# Plotting the density curve"
      ],
      "metadata": {
        "colab": {
          "base_uri": "https://localhost:8080/",
          "height": 282
        },
        "id": "qDJB-xgEVHM0",
        "outputId": "228f8ab5-bae7-4611-faac-ea0dd6fe7f85"
      },
      "execution_count": null,
      "outputs": [
        {
          "output_type": "execute_result",
          "data": {
            "text/plain": [
              "<matplotlib.axes._subplots.AxesSubplot at 0x7f609ab08ad0>"
            ]
          },
          "metadata": {},
          "execution_count": 67
        },
        {
          "output_type": "display_data",
          "data": {
            "text/plain": [
              "<Figure size 432x288 with 1 Axes>"
            ],
            "image/png": "[encoded data removed]"
          },
          "metadata": {
            "needs_background": "light"
          }
        }
      ]
    },
    {
      "cell_type": "markdown",
      "source": [
        "${EM \\text{ }Algorithm\\text{ } for\\text{ } Two-component\\text{ } Gaussian \\text{ }Mixture}$\n",
        "\n",
        "1. Take initial guesses for the parameters $\\hat{\\mu_1},\\hat{σ_1^2},\\hat{\\mu_2},\\hat{σ_2^2},\\hat{π}$\n",
        "\n",
        "2. $Expectation\\text{ } Step$: Compute the responsibilities\n",
        "\\begin{align*}\n",
        "\\hat{\\gamma_i} = \\frac{\\hat{π}𝛷_{\\hat{θ_2}}(y_i)}{(1-\\hat{π})𝛷_{\\hat{θ_1}}(y_i)+ \\hat{π}𝛷_{\\hat{θ_2}}(y_i)}  \\text{   }i = 1,2,\\ldots,N\n",
        "\\end{align*}\n",
        "\n",
        "3.$Maximization\\text{ } Step$: compute the weighted means and variances:\\\n",
        "$\\hat{\\mu}_1 = \\frac{∑_{i=1}^N((1-\\hat{\\gamma}_i)y_i}{∑_{i=1}^N(1-\\hat{\\gamma}_i)}$ $\\text{  }$  $\\hat{σ_1^2} = \\frac{∑_{i=1}^N(1-\\hat{\\gamma}_i)(y_i-\\hat{\\mu_1})^2}{∑_{i=1}^N(1-\\hat{γ}_i)}$ $\\hat{\\mu}_2 = \\frac{∑_{i=1}^N\\hat{\\gamma}_iy_i}{∑_{i=1}^N\\hat{\\gamma}_i}$ $\\text{  }$  $\\hat{σ_2^2} = \\frac{∑_{i=1}^N\\hat{\\gamma}_i(y_i-\\hat{\\mu_2})^2}{∑_{i=1}^N\\hat{γ}_i}$\n",
        "\n",
        "and the mixing probability $\\hat{π} = ∑_{i=1}^N \\hat{γ_i}/N$\n",
        "\n",
        "4. Iterate steps 2 and 3 until convergence."
      ],
      "metadata": {
        "id": "EjujrczFe1aw"
      }
    },
    {
      "cell_type": "markdown",
      "source": [
        "## Univariate Gaussiam Mixture Implementaion of EM"
      ],
      "metadata": {
        "id": "NrsmiHvuP_g3"
      }
    },
    {
      "cell_type": "code",
      "source": [
        "def univariateGaussian(x,mu,var):\n",
        "\n",
        "  sigma = np.sqrt(var)\n",
        "\n",
        "  u = (x - mu)/abs(sigma)\n",
        "  density = (1/(np.sqrt(2*np.pi)* abs(sigma)))* np.exp(-u*u/2)\n",
        "\n",
        "  #density = (1/(np.sqrt(2*np.pi)* abs(sigma)))* np.exp(-(np.square(x-mu)/(2*np.square(sigma))))\n",
        "\n",
        "  return density"
      ],
      "metadata": {
        "id": "XyCI78EbbGnA"
      },
      "execution_count": null,
      "outputs": []
    },
    {
      "cell_type": "code",
      "source": [
        "######################################################################\n",
        "# Implementation of EM algorithm,for a simple Univarite data list.\n",
        "# The Data used, is the same used to build the histogram above\n",
        "######################################################################\n",
        "class EM1:\n",
        "\n",
        "  ######################################################################\n",
        "  # Initializing the parameters \n",
        "  # Mean-1,Mean-2, Variance-1, Variance-2 & mix \n",
        "  ######################################################################\n",
        "\n",
        "  def __init__(self,x):\n",
        "    self.x = x\n",
        "    self.mean_1 = 4.12 # Random Initialization of means \n",
        "    self.mean_2 = 5.28\n",
        "    \n",
        "    self.var_1 = self.var_2 =  1/len(self.x) * np.sum(np.square(self.x-np.mean(self.x)))\n",
        "    self.mix = 0.5\n",
        "\n",
        "  ######################################################################\n",
        "  # Below function executes the Expectation Step of the EM algorithm\n",
        "  # i.e calculate the responsibility value \"gamma\"\n",
        "  ######################################################################\n",
        "\n",
        "  def expectation(self):\n",
        "\n",
        "    self.phi_1 = univariateGaussian(self.x,self.mean_1,self.var_1)\n",
        "    self.phi_2 = univariateGaussian(self.x,self.mean_2,self.var_2)\n",
        "   \n",
        "    # Responsibility of Model-2\n",
        "    self.gamma = (self.mix* self.phi_2)/(((1-self.mix)*self.phi_1) + (self.mix*self.phi_2))\n",
        "\n",
        "    return self.gamma\n",
        "\n",
        "  ######################################################################\n",
        "  # Below function executes the maximization Step of the EM algorithm\n",
        "  # Implements the closed form equations for updating the \n",
        "  # algorithm parameters. \n",
        "  ######################################################################\n",
        "\n",
        "  def maximization(self):\n",
        "\n",
        "    self.mean_1 = np.sum((1-self.gamma)*self.x)/np.sum(1-self.gamma)\n",
        "    self.mean_2 = np.sum(self.gamma*self.x)/np.sum(self.gamma)\n",
        "\n",
        "\n",
        "    self.var_1 = np.sum((1-self.gamma)*((self.x-self.mean_1)**2))/np.sum(1-self.gamma)\n",
        "    self.var_2 = np.sum(self.gamma*((self.x-self.mean_2)**2))/np.sum(self.gamma)\n",
        " \n",
        "    self.mix = np.sum(self.gamma)/len(self.x)\n",
        "\n",
        "    return self.mix,self.mean_1,self.mean_2,self.var_1,self.var_2\n",
        "\n",
        "  ######################################################################\n",
        "  # Calculates the log-LikeLihood after each iteration\n",
        "  # Basically to view the grapy of how the liklihood converges.\n",
        "  ######################################################################\n",
        "\n",
        "  def logLikeLihood(self):\n",
        "\n",
        "    # Calculating the log Likelihood\n",
        "    self.loglikehood = np.sum(((1-self.gamma)*np.log(self.phi_1)) + (self.gamma*np.log(self.phi_2)) +\\\n",
        "    ((1-self.gamma)*np.log(1-self.mix))+(self.gamma*np.log(self.mix)))\n",
        "\n",
        "    return self.loglikehood\n",
        "\n",
        "  ######################################################################\n",
        "  # EM is an iterative algorithm\n",
        "  # EMIteration facilitates the execution of the E & M steps,\n",
        "  # until convergence.\n",
        "  ######################################################################\n",
        "\n",
        "  def EMIteration(self):\n",
        "\n",
        "    Newlog = 10\n",
        "    _ = self.expectation()\n",
        "    loglikehoodlst = []\n",
        "    Oldlog = self.logLikeLihood()\n",
        "    loglikehoodlst.append(Oldlog)\n",
        "    while abs(Newlog - Oldlog) > 0.00001:\n",
        "\n",
        "      Oldlog = Newlog\n",
        "      _ = self.maximization()\n",
        "      _ = self.expectation()\n",
        "      Newlog = self.logLikeLihood()\n",
        "      loglikehoodlst.append(Newlog)\n",
        "\n",
        "    finalResponsibilityAssng =  self.expectation()\n",
        "\n",
        "    return   finalResponsibilityAssng , loglikehoodlst"
      ],
      "metadata": {
        "id": "IbFLHvhVbvI4"
      },
      "execution_count": null,
      "outputs": []
    },
    {
      "cell_type": "code",
      "source": [
        "# Execution #\n",
        "EM = EM1(x)\n",
        "gamma,loglst = EM.EMIteration()\n",
        "mix,mean_1,mean_2,var_1,var_2 = EM.maximization()"
      ],
      "metadata": {
        "id": "wmSmlUVsdRMl"
      },
      "execution_count": null,
      "outputs": []
    },
    {
      "cell_type": "code",
      "source": [
        "t = np.arange(0,len(loglst))\n",
        "plt.plot(t,loglst,color='green',alpha=0.5, linestyle='dashed',linewidth=2)\n",
        "plt.title(\"LogLikeLihood\")\n",
        "plt.show()"
      ],
      "metadata": {
        "colab": {
          "base_uri": "https://localhost:8080/",
          "height": 281
        },
        "id": "cTwGyRe1nKf-",
        "outputId": "6c6047be-8caf-47dc-965b-da6e188d8509"
      },
      "execution_count": null,
      "outputs": [
        {
          "output_type": "display_data",
          "data": {
            "text/plain": [
              "<Figure size 432x288 with 1 Axes>"
            ],
            "image/png": "[encoded data removed]"
          },
          "metadata": {
            "needs_background": "light"
          }
        }
      ]
    },
    {
      "cell_type": "code",
      "source": [
        "\n",
        "density1 = []\n",
        "for i in range(0,100):\n",
        "  val = np.random.normal(mean_1,var_1,1)\n",
        "  density1.append(val)\n",
        "\n",
        "density2 = []\n",
        "for i in range(0,100):\n",
        "  val = np.random.normal(mean_2,var_2,1)\n",
        "  density2.append(val)\n",
        "\n",
        "density1 = np.array(density1).ravel()\n",
        "density2 = np.array(density2).ravel()\n"
      ],
      "metadata": {
        "id": "kYJ2xNDE0H4Q"
      },
      "execution_count": null,
      "outputs": []
    },
    {
      "cell_type": "code",
      "source": [
        "import matplotlib.pyplot as plt\n",
        "import numpy as np\n",
        "import matplotlib.mlab as mlab\n",
        "from scipy.stats import norm\n",
        "arr = np.random.randn(100)\n",
        "\n",
        "plt.figure(figsize=(8,4))\n",
        "plt.hist(density1,bins=30, density=True,color='skyblue',alpha=0.5)\n",
        "plt.hist(density2,bins=30, density=True,color='skyblue',alpha=0.5)\n",
        "\n",
        "\n",
        "\n",
        "sigma1 = np.sqrt(var_1)\n",
        "sigma2 = np.sqrt(var_2)\n",
        "x1 = np.linspace(min(density1), max(density1), 50)\n",
        "x2 = np.linspace(min(density2), max(density2), 50)\n",
        "sns.histplot(x,stat=\"probability\",bins=20,edgecolor='white',label='Original Unlabelled Data')\n",
        "plt.plot(x1, norm.pdf(x1, mean_1, sigma1),color='blue',linewidth=2,label='Gaussian One')\n",
        "plt.plot(x2, norm.pdf(x2, mean_2, sigma2),color='blue',linewidth=2,label='Gaussian Two')\n",
        "plt.title(\"To Illustrate the accuracy of EM Model parameters to given data\")\n",
        "plt.legend()\n",
        "plt.show()"
      ],
      "metadata": {
        "colab": {
          "base_uri": "https://localhost:8080/",
          "height": 281
        },
        "id": "UER_9Ftu7V4S",
        "outputId": "d5d4eabe-9fb9-4934-feac-e4b0df6ec6f3"
      },
      "execution_count": null,
      "outputs": [
        {
          "output_type": "display_data",
          "data": {
            "text/plain": [
              "<Figure size 576x288 with 1 Axes>"
            ],
            "image/png": "[encoded data removed]"
          },
          "metadata": {
            "needs_background": "light"
          }
        }
      ]
    },
    {
      "cell_type": "markdown",
      "source": [
        "## Multivariate Gaussian Implementation of EM\n"
      ],
      "metadata": {
        "id": "qaQkPtnkQJzg"
      }
    }
  ]
}